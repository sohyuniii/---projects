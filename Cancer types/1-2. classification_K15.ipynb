{
 "cells": [
  {
   "cell_type": "code",
   "execution_count": 1,
   "metadata": {
    "ExecuteTime": {
     "end_time": "2019-02-19T06:41:05.746772Z",
     "start_time": "2019-02-19T06:41:04.134705Z"
    }
   },
   "outputs": [],
   "source": [
    "import warnings\n",
    "warnings.filterwarnings(\"ignore\")\n",
    "\n",
    "import numpy as np\n",
    "import pandas as pd\n",
    "from sklearn.preprocessing import MinMaxScaler\n",
    "from sklearn.cluster import KMeans\n",
    "from matplotlib import pyplot as plt"
   ]
  },
  {
   "cell_type": "markdown",
   "metadata": {},
   "source": [
    "## K100 data"
   ]
  },
  {
   "cell_type": "code",
   "execution_count": 2,
   "metadata": {
    "ExecuteTime": {
     "end_time": "2019-02-19T06:42:27.030899Z",
     "start_time": "2019-02-19T06:42:26.776544Z"
    }
   },
   "outputs": [],
   "source": [
    "BC = pd.read_csv('BC_32ea_k15_cyto.csv')\n",
    "Normal = pd.read_csv('Normal_21ea_k15_cyto.csv')\n",
    "PC = pd.read_csv('PC_20ea_k15_cyto.csv')\n",
    "# RC_100 = pd.read_csv('RC_20ea_k100_cyto.csv')"
   ]
  },
  {
   "cell_type": "code",
   "execution_count": 3,
   "metadata": {
    "ExecuteTime": {
     "end_time": "2019-02-19T06:42:42.172756Z",
     "start_time": "2019-02-19T06:42:42.159891Z"
    }
   },
   "outputs": [],
   "source": [
    "#drop person id\n",
    "BC.drop(['Unnamed: 0','id'], axis = 1, inplace = True)\n",
    "Normal.drop(['Unnamed: 0','id'], axis = 1, inplace = True)\n",
    "PC.drop(['Unnamed: 0','id'], axis = 1, inplace = True)\n",
    "# RC_100.drop(['Unnamed: 0','id'], axis = 1, inplace = True)"
   ]
  },
  {
   "cell_type": "code",
   "execution_count": 4,
   "metadata": {
    "ExecuteTime": {
     "end_time": "2019-02-19T06:43:44.772365Z",
     "start_time": "2019-02-19T06:43:44.760545Z"
    }
   },
   "outputs": [],
   "source": [
    "BC['cancer'] = 'BC'\n",
    "Normal['cancer'] = 'normal'\n",
    "PC['cancer'] = 'PC'\n",
    "# RC_100['cancer'] = \"RC\"\n",
    "\n",
    "K15 = pd.concat([BC,Normal,PC], axis = 0)"
   ]
  },
  {
   "cell_type": "code",
   "execution_count": 5,
   "metadata": {},
   "outputs": [],
   "source": [
    "del [BC,Normal,PC]"
   ]
  },
  {
   "cell_type": "code",
   "execution_count": 6,
   "metadata": {},
   "outputs": [
    {
     "data": {
      "text/plain": [
       "(73, 769)"
      ]
     },
     "execution_count": 6,
     "metadata": {},
     "output_type": "execute_result"
    }
   ],
   "source": [
    "K15.shape"
   ]
  },
  {
   "cell_type": "code",
   "execution_count": 7,
   "metadata": {},
   "outputs": [
    {
     "data": {
      "text/plain": [
       "BC        32\n",
       "normal    21\n",
       "PC        20\n",
       "Name: cancer, dtype: int64"
      ]
     },
     "execution_count": 7,
     "metadata": {},
     "output_type": "execute_result"
    }
   ],
   "source": [
    "K15.cancer.value_counts()"
   ]
  },
  {
   "cell_type": "code",
   "execution_count": 8,
   "metadata": {},
   "outputs": [
    {
     "data": {
      "text/plain": [
       "127"
      ]
     },
     "execution_count": 8,
     "metadata": {},
     "output_type": "execute_result"
    }
   ],
   "source": [
    "K15.isna().sum().sum()"
   ]
  },
  {
   "cell_type": "code",
   "execution_count": 9,
   "metadata": {},
   "outputs": [],
   "source": [
    "K15_drop = K15.dropna(axis=0)"
   ]
  },
  {
   "cell_type": "code",
   "execution_count": 10,
   "metadata": {},
   "outputs": [
    {
     "data": {
      "text/plain": [
       "0"
      ]
     },
     "execution_count": 10,
     "metadata": {},
     "output_type": "execute_result"
    }
   ],
   "source": [
    "K15_drop.isna().sum().sum()"
   ]
  },
  {
   "cell_type": "code",
   "execution_count": 11,
   "metadata": {},
   "outputs": [
    {
     "data": {
      "text/plain": [
       "BC        32\n",
       "normal    21\n",
       "PC        19\n",
       "Name: cancer, dtype: int64"
      ]
     },
     "execution_count": 11,
     "metadata": {},
     "output_type": "execute_result"
    }
   ],
   "source": [
    "K15_drop.cancer.value_counts()"
   ]
  },
  {
   "cell_type": "code",
   "execution_count": 12,
   "metadata": {},
   "outputs": [
    {
     "name": "stdout",
     "output_type": "stream",
     "text": [
      "(73, 769)\n",
      "(72, 769)\n"
     ]
    }
   ],
   "source": [
    "print(K15.shape)\n",
    "print(K15_drop.shape)"
   ]
  },
  {
   "cell_type": "code",
   "execution_count": 13,
   "metadata": {
    "ExecuteTime": {
     "end_time": "2019-02-19T07:56:12.428519Z",
     "start_time": "2019-02-19T07:56:12.394346Z"
    }
   },
   "outputs": [
    {
     "data": {
      "text/html": [
       "<div>\n",
       "<style scoped>\n",
       "    .dataframe tbody tr th:only-of-type {\n",
       "        vertical-align: middle;\n",
       "    }\n",
       "\n",
       "    .dataframe tbody tr th {\n",
       "        vertical-align: top;\n",
       "    }\n",
       "\n",
       "    .dataframe thead th {\n",
       "        text-align: right;\n",
       "    }\n",
       "</style>\n",
       "<table border=\"1\" class=\"dataframe\">\n",
       "  <thead>\n",
       "    <tr style=\"text-align: right;\">\n",
       "      <th></th>\n",
       "      <th>cyto.10p11.1</th>\n",
       "      <th>cyto.10p11.21</th>\n",
       "      <th>cyto.10p11.22</th>\n",
       "      <th>cyto.10p11.23</th>\n",
       "      <th>cyto.10p12.1</th>\n",
       "      <th>cyto.10p12.2</th>\n",
       "      <th>cyto.10p12.31</th>\n",
       "      <th>cyto.10p12.32</th>\n",
       "      <th>cyto.10p12.33</th>\n",
       "      <th>cyto.10p13</th>\n",
       "      <th>...</th>\n",
       "      <th>cyto.9q33.1</th>\n",
       "      <th>cyto.9q33.2</th>\n",
       "      <th>cyto.9q33.3</th>\n",
       "      <th>cyto.9q34.11</th>\n",
       "      <th>cyto.9q34.12</th>\n",
       "      <th>cyto.9q34.13</th>\n",
       "      <th>cyto.9q34.2</th>\n",
       "      <th>cyto.9q34.3</th>\n",
       "      <th>&lt;NA&gt;</th>\n",
       "      <th>cancer</th>\n",
       "    </tr>\n",
       "  </thead>\n",
       "  <tbody>\n",
       "    <tr>\n",
       "      <th>0</th>\n",
       "      <td>-0.011625</td>\n",
       "      <td>-0.032886</td>\n",
       "      <td>0.006310</td>\n",
       "      <td>-0.06082</td>\n",
       "      <td>-0.014478</td>\n",
       "      <td>-0.033118</td>\n",
       "      <td>0.013153</td>\n",
       "      <td>0.132667</td>\n",
       "      <td>-0.060415</td>\n",
       "      <td>-0.013423</td>\n",
       "      <td>...</td>\n",
       "      <td>-0.030410</td>\n",
       "      <td>-0.083477</td>\n",
       "      <td>-0.043708</td>\n",
       "      <td>-0.022850</td>\n",
       "      <td>-0.041424</td>\n",
       "      <td>-0.040248</td>\n",
       "      <td>-0.056494</td>\n",
       "      <td>-0.041278</td>\n",
       "      <td>-0.015901</td>\n",
       "      <td>BC</td>\n",
       "    </tr>\n",
       "    <tr>\n",
       "      <th>1</th>\n",
       "      <td>-0.063208</td>\n",
       "      <td>-0.039772</td>\n",
       "      <td>-0.061178</td>\n",
       "      <td>-0.04797</td>\n",
       "      <td>-0.014949</td>\n",
       "      <td>-0.047236</td>\n",
       "      <td>0.018109</td>\n",
       "      <td>-0.246500</td>\n",
       "      <td>-0.037925</td>\n",
       "      <td>0.012408</td>\n",
       "      <td>...</td>\n",
       "      <td>-0.119689</td>\n",
       "      <td>-0.116231</td>\n",
       "      <td>-0.078664</td>\n",
       "      <td>-0.099285</td>\n",
       "      <td>-0.091061</td>\n",
       "      <td>-0.115920</td>\n",
       "      <td>-0.034854</td>\n",
       "      <td>-0.050695</td>\n",
       "      <td>-0.123485</td>\n",
       "      <td>BC</td>\n",
       "    </tr>\n",
       "    <tr>\n",
       "      <th>2</th>\n",
       "      <td>0.163167</td>\n",
       "      <td>-0.073174</td>\n",
       "      <td>-0.072665</td>\n",
       "      <td>0.03516</td>\n",
       "      <td>-0.107599</td>\n",
       "      <td>-0.034165</td>\n",
       "      <td>-0.118194</td>\n",
       "      <td>0.001167</td>\n",
       "      <td>0.019811</td>\n",
       "      <td>-0.092081</td>\n",
       "      <td>...</td>\n",
       "      <td>-0.252597</td>\n",
       "      <td>-0.289352</td>\n",
       "      <td>-0.146678</td>\n",
       "      <td>-0.166425</td>\n",
       "      <td>-0.068879</td>\n",
       "      <td>-0.164168</td>\n",
       "      <td>-0.169764</td>\n",
       "      <td>-0.233489</td>\n",
       "      <td>-0.062123</td>\n",
       "      <td>BC</td>\n",
       "    </tr>\n",
       "    <tr>\n",
       "      <th>3</th>\n",
       "      <td>-0.088125</td>\n",
       "      <td>-0.034087</td>\n",
       "      <td>-0.134503</td>\n",
       "      <td>-0.18650</td>\n",
       "      <td>-0.017468</td>\n",
       "      <td>-0.100008</td>\n",
       "      <td>-0.079250</td>\n",
       "      <td>0.019667</td>\n",
       "      <td>0.108453</td>\n",
       "      <td>-0.099898</td>\n",
       "      <td>...</td>\n",
       "      <td>-0.100810</td>\n",
       "      <td>-0.089949</td>\n",
       "      <td>-0.095227</td>\n",
       "      <td>-0.052330</td>\n",
       "      <td>-0.044576</td>\n",
       "      <td>-0.075440</td>\n",
       "      <td>-0.080101</td>\n",
       "      <td>-0.035848</td>\n",
       "      <td>-0.091942</td>\n",
       "      <td>BC</td>\n",
       "    </tr>\n",
       "    <tr>\n",
       "      <th>4</th>\n",
       "      <td>-0.420667</td>\n",
       "      <td>-0.239274</td>\n",
       "      <td>-0.271827</td>\n",
       "      <td>-0.22751</td>\n",
       "      <td>-0.242785</td>\n",
       "      <td>-0.206063</td>\n",
       "      <td>-0.186331</td>\n",
       "      <td>-0.113333</td>\n",
       "      <td>-0.279679</td>\n",
       "      <td>-0.100538</td>\n",
       "      <td>...</td>\n",
       "      <td>-0.173568</td>\n",
       "      <td>-0.071681</td>\n",
       "      <td>-0.009905</td>\n",
       "      <td>-0.051725</td>\n",
       "      <td>-0.001879</td>\n",
       "      <td>-0.016784</td>\n",
       "      <td>-0.023449</td>\n",
       "      <td>-0.047915</td>\n",
       "      <td>-0.115848</td>\n",
       "      <td>BC</td>\n",
       "    </tr>\n",
       "  </tbody>\n",
       "</table>\n",
       "<p>5 rows × 769 columns</p>\n",
       "</div>"
      ],
      "text/plain": [
       "   cyto.10p11.1  cyto.10p11.21  cyto.10p11.22  cyto.10p11.23  cyto.10p12.1  \\\n",
       "0     -0.011625      -0.032886       0.006310       -0.06082     -0.014478   \n",
       "1     -0.063208      -0.039772      -0.061178       -0.04797     -0.014949   \n",
       "2      0.163167      -0.073174      -0.072665        0.03516     -0.107599   \n",
       "3     -0.088125      -0.034087      -0.134503       -0.18650     -0.017468   \n",
       "4     -0.420667      -0.239274      -0.271827       -0.22751     -0.242785   \n",
       "\n",
       "   cyto.10p12.2  cyto.10p12.31  cyto.10p12.32  cyto.10p12.33  cyto.10p13  \\\n",
       "0     -0.033118       0.013153       0.132667      -0.060415   -0.013423   \n",
       "1     -0.047236       0.018109      -0.246500      -0.037925    0.012408   \n",
       "2     -0.034165      -0.118194       0.001167       0.019811   -0.092081   \n",
       "3     -0.100008      -0.079250       0.019667       0.108453   -0.099898   \n",
       "4     -0.206063      -0.186331      -0.113333      -0.279679   -0.100538   \n",
       "\n",
       "    ...    cyto.9q33.1  cyto.9q33.2  cyto.9q33.3  cyto.9q34.11  cyto.9q34.12  \\\n",
       "0   ...      -0.030410    -0.083477    -0.043708     -0.022850     -0.041424   \n",
       "1   ...      -0.119689    -0.116231    -0.078664     -0.099285     -0.091061   \n",
       "2   ...      -0.252597    -0.289352    -0.146678     -0.166425     -0.068879   \n",
       "3   ...      -0.100810    -0.089949    -0.095227     -0.052330     -0.044576   \n",
       "4   ...      -0.173568    -0.071681    -0.009905     -0.051725     -0.001879   \n",
       "\n",
       "   cyto.9q34.13  cyto.9q34.2  cyto.9q34.3      <NA>  cancer  \n",
       "0     -0.040248    -0.056494    -0.041278 -0.015901      BC  \n",
       "1     -0.115920    -0.034854    -0.050695 -0.123485      BC  \n",
       "2     -0.164168    -0.169764    -0.233489 -0.062123      BC  \n",
       "3     -0.075440    -0.080101    -0.035848 -0.091942      BC  \n",
       "4     -0.016784    -0.023449    -0.047915 -0.115848      BC  \n",
       "\n",
       "[5 rows x 769 columns]"
      ]
     },
     "execution_count": 13,
     "metadata": {},
     "output_type": "execute_result"
    }
   ],
   "source": [
    "K15_drop.head()"
   ]
  },
  {
   "cell_type": "code",
   "execution_count": null,
   "metadata": {},
   "outputs": [],
   "source": []
  },
  {
   "cell_type": "markdown",
   "metadata": {},
   "source": [
    "## 1.1 Classification : KNN "
   ]
  },
  {
   "cell_type": "code",
   "execution_count": 14,
   "metadata": {},
   "outputs": [
    {
     "data": {
      "text/plain": [
       "(72, 768)"
      ]
     },
     "execution_count": 14,
     "metadata": {},
     "output_type": "execute_result"
    }
   ],
   "source": [
    "#대대분류 삭제\n",
    "K15_cluter = K15_drop.drop('cancer', axis = 1)\n",
    "K15_cluter.shape"
   ]
  },
  {
   "cell_type": "code",
   "execution_count": 15,
   "metadata": {},
   "outputs": [],
   "source": [
    "mms = MinMaxScaler()\n",
    "mms.fit(K15_cluter) #대대분류 뺀 column들만 갖고\n",
    "cluster_transformed = mms.transform(K15_cluter)"
   ]
  },
  {
   "cell_type": "code",
   "execution_count": 16,
   "metadata": {},
   "outputs": [
    {
     "data": {
      "text/plain": [
       "0    65\n",
       "1     6\n",
       "2     1\n",
       "Name: predict, dtype: int64"
      ]
     },
     "execution_count": 16,
     "metadata": {},
     "output_type": "execute_result"
    }
   ],
   "source": [
    "# original \n",
    "k=3\n",
    "km = KMeans(n_clusters = k, algorithm = 'auto')\n",
    "km.fit(K15_cluter) # 데이터를 이용하여 클러스터링을 위한 학습 시작하고 중심점 추출\n",
    "km_predict = pd.DataFrame(km.predict(K15_cluter)) # 학습된 모델이 맞춰 라벨 리턴\n",
    "km_predict.columns = ['predict']\n",
    "km_predict.predict.value_counts()"
   ]
  },
  {
   "cell_type": "code",
   "execution_count": 17,
   "metadata": {},
   "outputs": [
    {
     "data": {
      "text/plain": [
       "1    61\n",
       "0     9\n",
       "2     2\n",
       "Name: predict, dtype: int64"
      ]
     },
     "execution_count": 17,
     "metadata": {},
     "output_type": "execute_result"
    }
   ],
   "source": [
    "# scale data\n",
    "km = KMeans(n_clusters = k, algorithm = 'auto')\n",
    "km.fit(cluster_transformed) # 데이터를 이용하여 클러스터링을 위한 학습 시작하고 중심점 추출\n",
    "km_predict_scale = pd.DataFrame(km.predict(cluster_transformed)) # 학습된 모델이 맞춰 라벨 리턴\n",
    "km_predict_scale.columns = ['predict']\n",
    "km_predict_scale.predict.value_counts()"
   ]
  },
  {
   "cell_type": "code",
   "execution_count": null,
   "metadata": {},
   "outputs": [],
   "source": []
  },
  {
   "cell_type": "markdown",
   "metadata": {},
   "source": [
    "## 1.2 Classification : Modeling"
   ]
  },
  {
   "cell_type": "code",
   "execution_count": 18,
   "metadata": {
    "ExecuteTime": {
     "end_time": "2019-02-19T06:59:37.015247Z",
     "start_time": "2019-02-19T06:59:37.007585Z"
    }
   },
   "outputs": [
    {
     "name": "stderr",
     "output_type": "stream",
     "text": [
      "C:\\ProgramData\\Anaconda1\\lib\\site-packages\\sklearn\\ensemble\\weight_boosting.py:29: DeprecationWarning: numpy.core.umath_tests is an internal NumPy module and should not be imported. It will be removed in a future NumPy release.\n",
      "  from numpy.core.umath_tests import inner1d\n"
     ]
    }
   ],
   "source": [
    "from sklearn.ensemble import RandomForestClassifier\n",
    "rf1 = RandomForestClassifier()\n",
    "from sklearn.svm import SVC\n",
    "svm1 = SVC()"
   ]
  },
  {
   "cell_type": "code",
   "execution_count": 19,
   "metadata": {
    "ExecuteTime": {
     "end_time": "2019-02-19T06:59:37.430295Z",
     "start_time": "2019-02-19T06:59:37.423414Z"
    }
   },
   "outputs": [],
   "source": [
    "from sklearn.metrics import accuracy_score\n",
    "from sklearn.model_selection import KFold\n",
    "cv = KFold(5, shuffle=True, random_state=0)"
   ]
  },
  {
   "cell_type": "code",
   "execution_count": 20,
   "metadata": {
    "ExecuteTime": {
     "end_time": "2019-02-19T06:59:38.165125Z",
     "start_time": "2019-02-19T06:59:37.750349Z"
    }
   },
   "outputs": [
    {
     "name": "stdout",
     "output_type": "stream",
     "text": [
      "[   K = 0    ]\n",
      "-----------svm-----------\n",
      "train accurcacy = 0.43859649122807015, cv accurcacy = 0.4666666666666667\n",
      "--------rf--------\n",
      "train accurcacy = 1.0, cv accurcacy = 0.6\n",
      "[   K = 1    ]\n",
      "-----------svm-----------\n",
      "train accurcacy = 0.47368421052631576, cv accurcacy = 0.3333333333333333\n",
      "--------rf--------\n",
      "train accurcacy = 1.0, cv accurcacy = 0.4666666666666667\n",
      "[   K = 2    ]\n",
      "-----------svm-----------\n",
      "train accurcacy = 0.43103448275862066, cv accurcacy = 0.5\n",
      "--------rf--------\n",
      "train accurcacy = 1.0, cv accurcacy = 0.5714285714285714\n",
      "[   K = 3    ]\n",
      "-----------svm-----------\n",
      "train accurcacy = 0.43103448275862066, cv accurcacy = 0.5\n",
      "--------rf--------\n",
      "train accurcacy = 0.9827586206896551, cv accurcacy = 0.5714285714285714\n",
      "[   K = 4    ]\n",
      "-----------svm-----------\n",
      "train accurcacy = 0.4482758620689655, cv accurcacy = 0.42857142857142855\n",
      "--------rf--------\n",
      "train accurcacy = 0.9827586206896551, cv accurcacy = 0.5\n"
     ]
    }
   ],
   "source": [
    "for i, (idx_train, idx_cv) in enumerate(cv.split(K15_drop)):\n",
    "    df_train = K15_drop.iloc[idx_train]\n",
    "    df_cv = K15_drop.iloc[idx_cv]\n",
    "    \n",
    "    x_train = df_train.drop(['cancer'], axis=1)\n",
    "    y_train = df_train['cancer']\n",
    "    \n",
    "    x_cv = df_cv.drop(['cancer'], axis=1)\n",
    "    y_cv = df_cv['cancer']\n",
    "    \n",
    "    print('[   K =',i,'   ]')\n",
    "    print('-----------svm-----------')\n",
    "    svm1.fit(x_train, y_train)\n",
    "    print(\"train accurcacy = {}, cv accurcacy = {}\".format(accuracy_score(y_train, svm1.predict(x_train)), accuracy_score(y_cv, svm1.predict(x_cv))))\n",
    "    \n",
    "    print('--------rf--------')\n",
    "    rf1.fit(x_train, y_train)\n",
    "    print(\"train accurcacy = {}, cv accurcacy = {}\".format(accuracy_score(y_train, rf1.predict(x_train)), accuracy_score(y_cv, rf1.predict(x_cv))))\n",
    "    "
   ]
  },
  {
   "cell_type": "code",
   "execution_count": 24,
   "metadata": {},
   "outputs": [
    {
     "data": {
      "text/plain": [
       "<matplotlib.axes._subplots.AxesSubplot at 0x162bc0eecf8>"
      ]
     },
     "execution_count": 24,
     "metadata": {},
     "output_type": "execute_result"
    },
    {
     "data": {
      "image/png": "[encoded data removed]",
      "text/plain": [
       "<Figure size 576x720 with 1 Axes>"
      ]
     },
     "metadata": {
      "needs_background": "light"
     },
     "output_type": "display_data"
    }
   ],
   "source": [
    "plt.figure(figsize=(8,10))\n",
    "\n",
    "feat_importances = pd.Series(rf1.feature_importances_, index=x_train.columns)\n",
    "feat_importances.nlargest(20).plot(kind='barh')"
   ]
  },
  {
   "cell_type": "code",
   "execution_count": 47,
   "metadata": {},
   "outputs": [
    {
     "data": {
      "text/plain": [
       "cyto.18q21.32    0.065800\n",
       "cyto.4q35.2      0.042415\n",
       "cyto.8q21.2      0.034966\n",
       "cyto.17p13.3     0.033759\n",
       "cyto.3p25.2      0.032841\n",
       "cyto.5q31.3      0.032310\n",
       "cyto.8q22.1      0.028372\n",
       "cyto.5q23.1      0.026430\n",
       "cyto.12q23.3     0.025581\n",
       "cyto.9p21.3      0.024227\n",
       "cyto.10q23.1     0.023772\n",
       "cyto.2q37.3      0.022810\n",
       "cyto.13q12.13    0.022578\n",
       "cyto.5q22.3      0.021458\n",
       "cyto.12p13.33    0.019755\n",
       "cyto.4p15.31     0.019264\n",
       "cyto.7q36.2      0.019225\n",
       "cyto.10q26.3     0.019031\n",
       "cyto.1q22        0.018140\n",
       "cyto.3q27.1      0.017388\n",
       "cyto.2q22.1      0.017216\n",
       "cyto.8q22.2      0.017181\n",
       "cyto.10q25.2     0.015453\n",
       "cyto.10q22.2     0.015363\n",
       "cyto.15q13.1     0.015242\n",
       "cyto.4q21.23     0.014892\n",
       "cyto.12q14.1     0.013889\n",
       "cyto.14q32.11    0.012664\n",
       "cyto.14q24.2     0.012587\n",
       "cyto.13q34       0.012475\n",
       "                   ...   \n",
       "cyto.3p25.3      0.000000\n",
       "cyto.3p25.1      0.000000\n",
       "cyto.3p24.3      0.000000\n",
       "cyto.3p24.2      0.000000\n",
       "cyto.3p24.1      0.000000\n",
       "cyto.3p23        0.000000\n",
       "cyto.3p22.3      0.000000\n",
       "cyto.3q13.31     0.000000\n",
       "cyto.3q13.32     0.000000\n",
       "cyto.3q13.33     0.000000\n",
       "cyto.3q25.32     0.000000\n",
       "cyto.3q28        0.000000\n",
       "cyto.3q27.3      0.000000\n",
       "cyto.3q27.2      0.000000\n",
       "cyto.3q26.33     0.000000\n",
       "cyto.3q26.32     0.000000\n",
       "cyto.3q26.31     0.000000\n",
       "cyto.3q26.2      0.000000\n",
       "cyto.3q25.33     0.000000\n",
       "cyto.3q25.31     0.000000\n",
       "cyto.3q21.1      0.000000\n",
       "cyto.3q25.2      0.000000\n",
       "cyto.3q25.1      0.000000\n",
       "cyto.3q24        0.000000\n",
       "cyto.3q23        0.000000\n",
       "cyto.3q22.3      0.000000\n",
       "cyto.3q22.2      0.000000\n",
       "cyto.3q21.3      0.000000\n",
       "cyto.3q21.2      0.000000\n",
       "cyto.10p11.1     0.000000\n",
       "Length: 768, dtype: float64"
      ]
     },
     "execution_count": 47,
     "metadata": {},
     "output_type": "execute_result"
    }
   ],
   "source": [
    "feat_importances.sort_values(ascending=False)"
   ]
  },
  {
   "cell_type": "code",
   "execution_count": null,
   "metadata": {},
   "outputs": [],
   "source": []
  }
 ],
 "metadata": {
  "kernelspec": {
   "display_name": "Python [default]",
   "language": "python",
   "name": "python3"
  },
  "language_info": {
   "codemirror_mode": {
    "name": "ipython",
    "version": 3
   },
   "file_extension": ".py",
   "mimetype": "text/x-python",
   "name": "python",
   "nbconvert_exporter": "python",
   "pygments_lexer": "ipython3",
   "version": "3.7.0"
  }
 },
 "nbformat": 4,
 "nbformat_minor": 2
}
