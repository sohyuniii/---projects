{
 "cells": [
  {
   "cell_type": "code",
   "execution_count": 2,
   "metadata": {
    "ExecuteTime": {
     "end_time": "2019-02-19T06:41:05.746772Z",
     "start_time": "2019-02-19T06:41:04.134705Z"
    }
   },
   "outputs": [],
   "source": [
    "import warnings\n",
    "warnings.filterwarnings(\"ignore\")\n",
    "\n",
    "import numpy as np\n",
    "import pandas as pd\n",
    "from sklearn.preprocessing import MinMaxScaler\n",
    "from sklearn.cluster import KMeans\n",
    "from matplotlib import pyplot as plt"
   ]
  },
  {
   "cell_type": "markdown",
   "metadata": {},
   "source": [
    "## K100"
   ]
  },
  {
   "cell_type": "code",
   "execution_count": 13,
   "metadata": {
    "ExecuteTime": {
     "end_time": "2019-02-19T06:42:27.030899Z",
     "start_time": "2019-02-19T06:42:26.776544Z"
    }
   },
   "outputs": [],
   "source": [
    "BC_100 = pd.read_csv('BC_32ea_k100_cyto.csv')\n",
    "Normal_100 = pd.read_csv('Normal_21ea_k100_cyto.csv')\n",
    "PC_100 = pd.read_csv('PC_20ea_k100_cyto.csv')\n",
    "RC_100 = pd.read_csv('RC_20ea_k100_cyto.csv')"
   ]
  },
  {
   "cell_type": "code",
   "execution_count": 16,
   "metadata": {
    "ExecuteTime": {
     "end_time": "2019-02-19T06:42:42.172756Z",
     "start_time": "2019-02-19T06:42:42.159891Z"
    }
   },
   "outputs": [],
   "source": [
    "#drop person id\n",
    "BC_100.drop(['Unnamed: 0','id'], axis = 1, inplace = True)\n",
    "Normal_100.drop(['Unnamed: 0','id'], axis = 1, inplace = True)\n",
    "PC_100.drop(['Unnamed: 0','id'], axis = 1, inplace = True)\n",
    "RC_100.drop(['Unnamed: 0','id'], axis = 1, inplace = True)"
   ]
  },
  {
   "cell_type": "code",
   "execution_count": 18,
   "metadata": {
    "ExecuteTime": {
     "end_time": "2019-02-19T06:43:44.772365Z",
     "start_time": "2019-02-19T06:43:44.760545Z"
    }
   },
   "outputs": [],
   "source": [
    "BC_100['cancer'] = 'BC'\n",
    "Normal_100['cancer'] = 'normal'\n",
    "PC_100['cancer'] = 'PC'\n",
    "RC_100['cancer'] = \"RC\"\n",
    "\n",
    "K100 = pd.concat([BC_100,Normal_100,PC_100,RC_100], axis = 0)"
   ]
  },
  {
   "cell_type": "code",
   "execution_count": 19,
   "metadata": {},
   "outputs": [],
   "source": [
    "del [BC_100,Normal_100,PC_100,RC_100]"
   ]
  },
  {
   "cell_type": "code",
   "execution_count": 20,
   "metadata": {},
   "outputs": [
    {
     "data": {
      "text/plain": [
       "(94, 766)"
      ]
     },
     "execution_count": 20,
     "metadata": {},
     "output_type": "execute_result"
    }
   ],
   "source": [
    "K100.shape"
   ]
  },
  {
   "cell_type": "code",
   "execution_count": 21,
   "metadata": {},
   "outputs": [
    {
     "data": {
      "text/plain": [
       "BC        32\n",
       "RC        21\n",
       "normal    21\n",
       "PC        20\n",
       "Name: cancer, dtype: int64"
      ]
     },
     "execution_count": 21,
     "metadata": {},
     "output_type": "execute_result"
    }
   ],
   "source": [
    "K100.cancer.value_counts()"
   ]
  },
  {
   "cell_type": "code",
   "execution_count": 31,
   "metadata": {},
   "outputs": [
    {
     "data": {
      "text/plain": [
       "647"
      ]
     },
     "execution_count": 31,
     "metadata": {},
     "output_type": "execute_result"
    }
   ],
   "source": [
    "K100.isna().sum().sum()"
   ]
  },
  {
   "cell_type": "code",
   "execution_count": 30,
   "metadata": {},
   "outputs": [],
   "source": [
    "K100_drop = K100.dropna(axis=0)"
   ]
  },
  {
   "cell_type": "code",
   "execution_count": 37,
   "metadata": {},
   "outputs": [
    {
     "data": {
      "text/plain": [
       "0"
      ]
     },
     "execution_count": 37,
     "metadata": {},
     "output_type": "execute_result"
    }
   ],
   "source": [
    "K100_drop.isna().sum().sum()"
   ]
  },
  {
   "cell_type": "code",
   "execution_count": 34,
   "metadata": {},
   "outputs": [
    {
     "data": {
      "text/plain": [
       "BC        32\n",
       "normal    21\n",
       "PC        19\n",
       "RC        16\n",
       "Name: cancer, dtype: int64"
      ]
     },
     "execution_count": 34,
     "metadata": {},
     "output_type": "execute_result"
    }
   ],
   "source": [
    "K100_drop.cancer.value_counts()"
   ]
  },
  {
   "cell_type": "code",
   "execution_count": 32,
   "metadata": {},
   "outputs": [
    {
     "name": "stdout",
     "output_type": "stream",
     "text": [
      "(94, 766)\n",
      "(88, 766)\n"
     ]
    }
   ],
   "source": [
    "print(K100.shape)\n",
    "print(K100_drop.shape)"
   ]
  },
  {
   "cell_type": "code",
   "execution_count": 33,
   "metadata": {
    "ExecuteTime": {
     "end_time": "2019-02-19T07:56:12.428519Z",
     "start_time": "2019-02-19T07:56:12.394346Z"
    }
   },
   "outputs": [
    {
     "data": {
      "text/html": [
       "<div>\n",
       "<style scoped>\n",
       "    .dataframe tbody tr th:only-of-type {\n",
       "        vertical-align: middle;\n",
       "    }\n",
       "\n",
       "    .dataframe tbody tr th {\n",
       "        vertical-align: top;\n",
       "    }\n",
       "\n",
       "    .dataframe thead th {\n",
       "        text-align: right;\n",
       "    }\n",
       "</style>\n",
       "<table border=\"1\" class=\"dataframe\">\n",
       "  <thead>\n",
       "    <tr style=\"text-align: right;\">\n",
       "      <th></th>\n",
       "      <th>cyto.10p11.1</th>\n",
       "      <th>cyto.10p11.21</th>\n",
       "      <th>cyto.10p11.22</th>\n",
       "      <th>cyto.10p11.23</th>\n",
       "      <th>cyto.10p12.1</th>\n",
       "      <th>cyto.10p12.2</th>\n",
       "      <th>cyto.10p12.31</th>\n",
       "      <th>cyto.10p12.32</th>\n",
       "      <th>cyto.10p12.33</th>\n",
       "      <th>cyto.10p13</th>\n",
       "      <th>...</th>\n",
       "      <th>cyto.9q33.1</th>\n",
       "      <th>cyto.9q33.2</th>\n",
       "      <th>cyto.9q33.3</th>\n",
       "      <th>cyto.9q34.11</th>\n",
       "      <th>cyto.9q34.12</th>\n",
       "      <th>cyto.9q34.13</th>\n",
       "      <th>cyto.9q34.2</th>\n",
       "      <th>cyto.9q34.3</th>\n",
       "      <th>&lt;NA&gt;</th>\n",
       "      <th>cancer</th>\n",
       "    </tr>\n",
       "  </thead>\n",
       "  <tbody>\n",
       "    <tr>\n",
       "      <th>0</th>\n",
       "      <td>0.181000</td>\n",
       "      <td>-0.019967</td>\n",
       "      <td>0.044536</td>\n",
       "      <td>-0.026000</td>\n",
       "      <td>0.018065</td>\n",
       "      <td>0.00490</td>\n",
       "      <td>0.048000</td>\n",
       "      <td>0.084</td>\n",
       "      <td>-0.042857</td>\n",
       "      <td>0.01960</td>\n",
       "      <td>...</td>\n",
       "      <td>0.015217</td>\n",
       "      <td>-0.044152</td>\n",
       "      <td>-0.004636</td>\n",
       "      <td>0.014333</td>\n",
       "      <td>0.0116</td>\n",
       "      <td>-0.004737</td>\n",
       "      <td>-0.019571</td>\n",
       "      <td>-0.022065</td>\n",
       "      <td>-0.7450</td>\n",
       "      <td>BC</td>\n",
       "    </tr>\n",
       "    <tr>\n",
       "      <th>1</th>\n",
       "      <td>0.127000</td>\n",
       "      <td>0.010733</td>\n",
       "      <td>0.031250</td>\n",
       "      <td>0.048600</td>\n",
       "      <td>0.084413</td>\n",
       "      <td>0.05160</td>\n",
       "      <td>0.092889</td>\n",
       "      <td>0.102</td>\n",
       "      <td>-0.012857</td>\n",
       "      <td>0.07528</td>\n",
       "      <td>...</td>\n",
       "      <td>-0.043478</td>\n",
       "      <td>-0.046000</td>\n",
       "      <td>-0.007386</td>\n",
       "      <td>-0.009233</td>\n",
       "      <td>-0.0136</td>\n",
       "      <td>-0.060474</td>\n",
       "      <td>0.027714</td>\n",
       "      <td>0.002290</td>\n",
       "      <td>0.2550</td>\n",
       "      <td>BC</td>\n",
       "    </tr>\n",
       "    <tr>\n",
       "      <th>2</th>\n",
       "      <td>0.004000</td>\n",
       "      <td>0.007567</td>\n",
       "      <td>0.024964</td>\n",
       "      <td>0.081200</td>\n",
       "      <td>-0.011391</td>\n",
       "      <td>0.03605</td>\n",
       "      <td>-0.050194</td>\n",
       "      <td>-0.093</td>\n",
       "      <td>-0.059857</td>\n",
       "      <td>-0.01634</td>\n",
       "      <td>...</td>\n",
       "      <td>-0.158783</td>\n",
       "      <td>-0.193576</td>\n",
       "      <td>-0.075977</td>\n",
       "      <td>-0.106667</td>\n",
       "      <td>-0.0114</td>\n",
       "      <td>-0.072421</td>\n",
       "      <td>-0.127714</td>\n",
       "      <td>-0.168903</td>\n",
       "      <td>-0.1360</td>\n",
       "      <td>BC</td>\n",
       "    </tr>\n",
       "    <tr>\n",
       "      <th>3</th>\n",
       "      <td>0.135667</td>\n",
       "      <td>0.061467</td>\n",
       "      <td>-0.061286</td>\n",
       "      <td>-0.071733</td>\n",
       "      <td>0.070522</td>\n",
       "      <td>0.06270</td>\n",
       "      <td>0.020556</td>\n",
       "      <td>-0.002</td>\n",
       "      <td>0.050857</td>\n",
       "      <td>-0.00038</td>\n",
       "      <td>...</td>\n",
       "      <td>-0.019326</td>\n",
       "      <td>0.012515</td>\n",
       "      <td>-0.009591</td>\n",
       "      <td>0.016667</td>\n",
       "      <td>0.0438</td>\n",
       "      <td>0.019947</td>\n",
       "      <td>0.011500</td>\n",
       "      <td>0.031387</td>\n",
       "      <td>0.0100</td>\n",
       "      <td>BC</td>\n",
       "    </tr>\n",
       "    <tr>\n",
       "      <th>4</th>\n",
       "      <td>-0.251000</td>\n",
       "      <td>-0.134700</td>\n",
       "      <td>-0.175750</td>\n",
       "      <td>-0.165800</td>\n",
       "      <td>-0.112522</td>\n",
       "      <td>-0.06670</td>\n",
       "      <td>-0.127972</td>\n",
       "      <td>0.026</td>\n",
       "      <td>-0.198429</td>\n",
       "      <td>-0.00408</td>\n",
       "      <td>...</td>\n",
       "      <td>-0.074109</td>\n",
       "      <td>0.024758</td>\n",
       "      <td>0.097000</td>\n",
       "      <td>0.018667</td>\n",
       "      <td>0.1170</td>\n",
       "      <td>0.058368</td>\n",
       "      <td>0.038571</td>\n",
       "      <td>0.020065</td>\n",
       "      <td>-0.4595</td>\n",
       "      <td>BC</td>\n",
       "    </tr>\n",
       "  </tbody>\n",
       "</table>\n",
       "<p>5 rows × 766 columns</p>\n",
       "</div>"
      ],
      "text/plain": [
       "   cyto.10p11.1  cyto.10p11.21  cyto.10p11.22  cyto.10p11.23  cyto.10p12.1  \\\n",
       "0      0.181000      -0.019967       0.044536      -0.026000      0.018065   \n",
       "1      0.127000       0.010733       0.031250       0.048600      0.084413   \n",
       "2      0.004000       0.007567       0.024964       0.081200     -0.011391   \n",
       "3      0.135667       0.061467      -0.061286      -0.071733      0.070522   \n",
       "4     -0.251000      -0.134700      -0.175750      -0.165800     -0.112522   \n",
       "\n",
       "   cyto.10p12.2  cyto.10p12.31  cyto.10p12.32  cyto.10p12.33  cyto.10p13  \\\n",
       "0       0.00490       0.048000          0.084      -0.042857     0.01960   \n",
       "1       0.05160       0.092889          0.102      -0.012857     0.07528   \n",
       "2       0.03605      -0.050194         -0.093      -0.059857    -0.01634   \n",
       "3       0.06270       0.020556         -0.002       0.050857    -0.00038   \n",
       "4      -0.06670      -0.127972          0.026      -0.198429    -0.00408   \n",
       "\n",
       "    ...    cyto.9q33.1  cyto.9q33.2  cyto.9q33.3  cyto.9q34.11  cyto.9q34.12  \\\n",
       "0   ...       0.015217    -0.044152    -0.004636      0.014333        0.0116   \n",
       "1   ...      -0.043478    -0.046000    -0.007386     -0.009233       -0.0136   \n",
       "2   ...      -0.158783    -0.193576    -0.075977     -0.106667       -0.0114   \n",
       "3   ...      -0.019326     0.012515    -0.009591      0.016667        0.0438   \n",
       "4   ...      -0.074109     0.024758     0.097000      0.018667        0.1170   \n",
       "\n",
       "   cyto.9q34.13  cyto.9q34.2  cyto.9q34.3    <NA>  cancer  \n",
       "0     -0.004737    -0.019571    -0.022065 -0.7450      BC  \n",
       "1     -0.060474     0.027714     0.002290  0.2550      BC  \n",
       "2     -0.072421    -0.127714    -0.168903 -0.1360      BC  \n",
       "3      0.019947     0.011500     0.031387  0.0100      BC  \n",
       "4      0.058368     0.038571     0.020065 -0.4595      BC  \n",
       "\n",
       "[5 rows x 766 columns]"
      ]
     },
     "execution_count": 33,
     "metadata": {},
     "output_type": "execute_result"
    }
   ],
   "source": [
    "K100_drop.head()"
   ]
  },
  {
   "cell_type": "code",
   "execution_count": null,
   "metadata": {},
   "outputs": [],
   "source": []
  },
  {
   "cell_type": "markdown",
   "metadata": {},
   "source": [
    "## 1.1 Classification : KNN "
   ]
  },
  {
   "cell_type": "code",
   "execution_count": 40,
   "metadata": {},
   "outputs": [
    {
     "data": {
      "text/plain": [
       "(88, 765)"
      ]
     },
     "execution_count": 40,
     "metadata": {},
     "output_type": "execute_result"
    }
   ],
   "source": [
    "#대대분류 삭제\n",
    "K100_cluter = K100_drop.drop('cancer', axis = 1)\n",
    "K100_cluter.shape"
   ]
  },
  {
   "cell_type": "code",
   "execution_count": 42,
   "metadata": {},
   "outputs": [],
   "source": [
    "mms = MinMaxScaler()\n",
    "mms.fit(K100_cluter) #대대분류 뺀 column들만 갖고\n",
    "cluster_transformed = mms.transform(K100_cluter)"
   ]
  },
  {
   "cell_type": "code",
   "execution_count": 47,
   "metadata": {},
   "outputs": [
    {
     "data": {
      "text/plain": [
       "0    77\n",
       "1     9\n",
       "3     1\n",
       "2     1\n",
       "Name: predict, dtype: int64"
      ]
     },
     "execution_count": 47,
     "metadata": {},
     "output_type": "execute_result"
    }
   ],
   "source": [
    "# original \n",
    "k=4\n",
    "km = KMeans(n_clusters = k, algorithm = 'auto')\n",
    "km.fit(K100_cluter) # 데이터를 이용하여 클러스터링을 위한 학습 시작하고 중심점 추출\n",
    "km_predict = pd.DataFrame(km.predict(K100_cluter)) # 학습된 모델이 맞춰 라벨 리턴\n",
    "km_predict.columns = ['predict']\n",
    "km_predict.predict.value_counts()"
   ]
  },
  {
   "cell_type": "code",
   "execution_count": 48,
   "metadata": {},
   "outputs": [
    {
     "data": {
      "text/plain": [
       "0    76\n",
       "2    10\n",
       "3     1\n",
       "1     1\n",
       "Name: predict, dtype: int64"
      ]
     },
     "execution_count": 48,
     "metadata": {},
     "output_type": "execute_result"
    }
   ],
   "source": [
    "# scale data\n",
    "km = KMeans(n_clusters = k, algorithm = 'auto')\n",
    "km.fit(cluster_transformed) # 데이터를 이용하여 클러스터링을 위한 학습 시작하고 중심점 추출\n",
    "km_predict_scale = pd.DataFrame(km.predict(cluster_transformed)) # 학습된 모델이 맞춰 라벨 리턴\n",
    "km_predict_scale.columns = ['predict']\n",
    "km_predict_scale.predict.value_counts()"
   ]
  },
  {
   "cell_type": "code",
   "execution_count": null,
   "metadata": {},
   "outputs": [],
   "source": []
  },
  {
   "cell_type": "markdown",
   "metadata": {},
   "source": [
    "## 1.2 Classification : Modeling"
   ]
  },
  {
   "cell_type": "code",
   "execution_count": 49,
   "metadata": {
    "ExecuteTime": {
     "end_time": "2019-02-19T06:59:37.015247Z",
     "start_time": "2019-02-19T06:59:37.007585Z"
    }
   },
   "outputs": [],
   "source": [
    "from sklearn.ensemble import RandomForestClassifier\n",
    "rf1 = RandomForestClassifier()\n",
    "from sklearn.svm import SVC\n",
    "svm1 = SVC()"
   ]
  },
  {
   "cell_type": "code",
   "execution_count": 59,
   "metadata": {
    "ExecuteTime": {
     "end_time": "2019-02-19T06:59:37.430295Z",
     "start_time": "2019-02-19T06:59:37.423414Z"
    }
   },
   "outputs": [],
   "source": [
    "from sklearn.metrics import accuracy_score\n",
    "from sklearn.model_selection import KFold\n",
    "cv = KFold(5, shuffle=True, random_state=0)"
   ]
  },
  {
   "cell_type": "code",
   "execution_count": 60,
   "metadata": {
    "ExecuteTime": {
     "end_time": "2019-02-19T06:59:38.165125Z",
     "start_time": "2019-02-19T06:59:37.750349Z"
    }
   },
   "outputs": [
    {
     "name": "stdout",
     "output_type": "stream",
     "text": [
      "[K = 0 ]\n",
      "-----------svm1-----------\n",
      "train accurcacy = 0.34285714285714286, cv accurcacy = 0.4444444444444444\n",
      "--------rf1--------\n",
      "train accurcacy = 1.0, cv accurcacy = 0.3333333333333333\n",
      "[K = 1 ]\n",
      "-----------svm1-----------\n",
      "train accurcacy = 0.38571428571428573, cv accurcacy = 0.2777777777777778\n",
      "--------rf1--------\n",
      "train accurcacy = 0.9857142857142858, cv accurcacy = 0.2222222222222222\n",
      "[K = 2 ]\n",
      "-----------svm1-----------\n",
      "train accurcacy = 0.34285714285714286, cv accurcacy = 0.4444444444444444\n",
      "--------rf1--------\n",
      "train accurcacy = 0.9857142857142858, cv accurcacy = 0.3888888888888889\n",
      "[K = 3 ]\n",
      "-----------svm1-----------\n",
      "train accurcacy = 0.352112676056338, cv accurcacy = 0.4117647058823529\n",
      "--------rf1--------\n",
      "train accurcacy = 1.0, cv accurcacy = 0.5294117647058824\n",
      "[K = 4 ]\n",
      "-----------svm1-----------\n",
      "train accurcacy = 0.39436619718309857, cv accurcacy = 0.23529411764705882\n",
      "--------rf1--------\n",
      "train accurcacy = 0.971830985915493, cv accurcacy = 0.17647058823529413\n"
     ]
    }
   ],
   "source": [
    "for i, (idx_train, idx_cv) in enumerate(cv.split(K100_drop)):\n",
    "    df_train = K100_drop.iloc[idx_train]\n",
    "    df_cv = K100_drop.iloc[idx_cv]\n",
    "    \n",
    "    x_train = df_train.drop(['cancer'], axis=1)\n",
    "    y_train = df_train['cancer']\n",
    "    \n",
    "    x_cv = df_cv.drop(['cancer'], axis=1)\n",
    "    y_cv = df_cv['cancer']\n",
    "    \n",
    "    print('[K =',i,']')\n",
    "    print('-----------svm1-----------')\n",
    "    svm1.fit(x_train, y_train)\n",
    "    print(\"train accurcacy = {}, cv accurcacy = {}\".format(accuracy_score(y_train, svm1.predict(x_train)), accuracy_score(y_cv, svm1.predict(x_cv))))\n",
    "    \n",
    "    print('--------rf1--------')\n",
    "    rf1.fit(x_train, y_train)\n",
    "    print(\"train accurcacy = {}, cv accurcacy = {}\".format(accuracy_score(y_train, rf1.predict(x_train)), accuracy_score(y_cv, rf1.predict(x_cv))))\n",
    "    "
   ]
  },
  {
   "cell_type": "code",
   "execution_count": null,
   "metadata": {},
   "outputs": [],
   "source": []
  },
  {
   "cell_type": "code",
   "execution_count": null,
   "metadata": {},
   "outputs": [],
   "source": []
  },
  {
   "cell_type": "code",
   "execution_count": null,
   "metadata": {},
   "outputs": [],
   "source": []
  },
  {
   "cell_type": "code",
   "execution_count": null,
   "metadata": {},
   "outputs": [],
   "source": [
    "\n",
    "\n"
   ]
  },
  {
   "cell_type": "code",
   "execution_count": null,
   "metadata": {},
   "outputs": [],
   "source": []
  }
 ],
 "metadata": {
  "kernelspec": {
   "display_name": "Python [default]",
   "language": "python",
   "name": "python3"
  },
  "language_info": {
   "codemirror_mode": {
    "name": "ipython",
    "version": 3
   },
   "file_extension": ".py",
   "mimetype": "text/x-python",
   "name": "python",
   "nbconvert_exporter": "python",
   "pygments_lexer": "ipython3",
   "version": "3.7.0"
  }
 },
 "nbformat": 4,
 "nbformat_minor": 2
}
