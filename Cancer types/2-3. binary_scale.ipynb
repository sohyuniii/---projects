{
 "cells": [
  {
   "cell_type": "code",
   "execution_count": 17,
   "metadata": {},
   "outputs": [],
   "source": [
    "import warnings\n",
    "warnings.filterwarnings(\"ignore\")\n",
    "\n",
    "import numpy as np\n",
    "import pandas as pd\n",
    "from pandas import DataFrame\n",
    "from sklearn.preprocessing import scale, robust_scale, minmax_scale, maxabs_scale\n",
    "from sklearn.ensemble import RandomForestClassifier\n",
    "from sklearn.metrics import accuracy_score\n",
    "from sklearn.model_selection import KFold\n",
    "from sklearn.model_selection import train_test_split"
   ]
  },
  {
   "cell_type": "markdown",
   "metadata": {},
   "source": [
    "## TCGA data"
   ]
  },
  {
   "cell_type": "code",
   "execution_count": 4,
   "metadata": {},
   "outputs": [
    {
     "data": {
      "text/plain": [
       "BC        408\n",
       "Normal    375\n",
       "Name: y, dtype: int64"
      ]
     },
     "execution_count": 4,
     "metadata": {},
     "output_type": "execute_result"
    }
   ],
   "source": [
    "TCGA = pd.read_csv('TCGA_data.csv')\n",
    "TCGA = TCGA.loc[(TCGA.cancer == 'BLCA')]\n",
    "TCGA.loc[(TCGA.cancer == 'BLCA') & (TCGA.y != 'Normal'),'y'] = 'BC'\n",
    "TCGA.y.value_counts()"
   ]
  },
  {
   "cell_type": "markdown",
   "metadata": {},
   "source": [
    "## urine data"
   ]
  },
  {
   "cell_type": "code",
   "execution_count": 5,
   "metadata": {},
   "outputs": [
    {
     "data": {
      "text/plain": [
       "0"
      ]
     },
     "execution_count": 5,
     "metadata": {},
     "output_type": "execute_result"
    }
   ],
   "source": [
    "BC_100 = pd.read_csv('BC_32ea_k100_cyto.csv')\n",
    "Normal_100 = pd.read_csv('Normal_21ea_k100_cyto.csv')\n",
    "\n",
    "#drop person id\n",
    "BC_100.drop(['Unnamed: 0','id'], axis = 1, inplace = True)\n",
    "Normal_100.drop(['Unnamed: 0','id'], axis = 1, inplace = True)\n",
    "\n",
    "BC_100['cancer'] = 'BC'\n",
    "Normal_100['cancer'] = 'normal'\n",
    "\n",
    "K100 = pd.concat([BC_100,Normal_100], axis = 0)\n",
    "\n",
    "del [BC_100,Normal_100]\n",
    "\n",
    "K100 = K100.dropna(axis=0)\n",
    "K100.isna().sum().sum()"
   ]
  },
  {
   "cell_type": "markdown",
   "metadata": {},
   "source": [
    "## 공통 col 추출"
   ]
  },
  {
   "cell_type": "code",
   "execution_count": 6,
   "metadata": {},
   "outputs": [],
   "source": [
    "a = list(TCGA.columns)\n",
    "b = list(K100.columns)\n",
    "\n",
    "new_col = []\n",
    "for col in a :\n",
    "    for col2 in b :\n",
    "        if col==col2 :\n",
    "            new_col.append(col)       "
   ]
  },
  {
   "cell_type": "code",
   "execution_count": 7,
   "metadata": {},
   "outputs": [],
   "source": [
    "TCGA_new = TCGA[new_col]\n",
    "K100_new = K100[new_col]"
   ]
  },
  {
   "cell_type": "markdown",
   "metadata": {},
   "source": [
    "## 1. scale : 기본 스케일. 평균과 표준편차 사용"
   ]
  },
  {
   "cell_type": "code",
   "execution_count": 37,
   "metadata": {},
   "outputs": [],
   "source": [
    "# modeling\n",
    "X = TCGA_new.drop(['cancer'], axis=1)\n",
    "X = scale(X)\n",
    "Y = TCGA['y']\n",
    "X_train, X_test, y_train, y_test = train_test_split(X,Y, test_size=0.3)\n",
    "\n",
    "rf = RandomForestClassifier()\n",
    "rf.fit(X_train,y_train)\n",
    "\n",
    "predicted = rf.predict(X_test)\n",
    "accuracy1 = accuracy_score(y_test, predicted)\n",
    "\n",
    "X = K100_new.drop(['cancer'], axis=1)\n",
    "X = scale(X)\n",
    "Y = K100['cancer']\n",
    "\n",
    "predicted = rf.predict(X)\n",
    "accuracy11 = accuracy_score(Y, predicted)"
   ]
  },
  {
   "cell_type": "markdown",
   "metadata": {},
   "source": [
    "## 2. robust_scale"
   ]
  },
  {
   "cell_type": "code",
   "execution_count": 32,
   "metadata": {},
   "outputs": [],
   "source": [
    "# modeling\n",
    "X = TCGA_new.drop(['cancer'], axis=1)\n",
    "X = robust_scale(X)\n",
    "Y = TCGA['y']\n",
    "X_train, X_test, y_train, y_test = train_test_split(X,Y, test_size=0.3)\n",
    "\n",
    "rf = RandomForestClassifier()\n",
    "rf.fit(X_train,y_train)\n",
    "\n",
    "predicted = rf.predict(X_test)\n",
    "accuracy2 = accuracy_score(y_test, predicted)\n",
    "\n",
    "# test\n",
    "X = K100_new.drop(['cancer'], axis=1)\n",
    "X = robust_scale(X)\n",
    "Y = K100['cancer']\n",
    "\n",
    "predicted = rf.predict(X)\n",
    "accuracy22 = accuracy_score(Y, predicted)"
   ]
  },
  {
   "cell_type": "markdown",
   "metadata": {},
   "source": [
    "## 3. minmax_scale"
   ]
  },
  {
   "cell_type": "code",
   "execution_count": 34,
   "metadata": {},
   "outputs": [],
   "source": [
    "# modeling\n",
    "X = TCGA_new.drop(['cancer'], axis=1)\n",
    "X = minmax_scale(X)\n",
    "Y = TCGA['y']\n",
    "X_train, X_test, y_train, y_test = train_test_split(X,Y, test_size=0.3)\n",
    "\n",
    "rf = RandomForestClassifier()\n",
    "rf.fit(X_train,y_train)\n",
    "\n",
    "predicted = rf.predict(X_test)\n",
    "accuracy3 = accuracy_score(y_test, predicted)\n",
    "\n",
    "# test\n",
    "X = K100_new.drop(['cancer'], axis=1)\n",
    "X = minmax_scale(X)\n",
    "Y = K100['cancer']\n",
    "\n",
    "predicted = rf.predict(X)\n",
    "accuracy33 = accuracy_score(Y, predicted)"
   ]
  },
  {
   "cell_type": "markdown",
   "metadata": {},
   "source": [
    "## 4. maxabs_scale"
   ]
  },
  {
   "cell_type": "code",
   "execution_count": 41,
   "metadata": {},
   "outputs": [],
   "source": [
    "# modeling\n",
    "X = TCGA_new.drop(['cancer'], axis=1)\n",
    "X = maxabs_scale(X)\n",
    "Y = TCGA['y']\n",
    "X_train, X_test, y_train, y_test = train_test_split(X,Y, test_size=0.3)\n",
    "\n",
    "rf = RandomForestClassifier()\n",
    "rf.fit(X_train,y_train)\n",
    "\n",
    "predicted = rf.predict(X_test)\n",
    "accuracy4 = accuracy_score(y_test, predicted)\n",
    "\n"
   ]
  },
  {
   "cell_type": "code",
   "execution_count": 42,
   "metadata": {},
   "outputs": [],
   "source": [
    "# test\n",
    "X = K100_new.drop(['cancer'], axis=1)\n",
    "X = maxabs_scale(X)\n",
    "Y = K100['cancer']\n",
    "\n",
    "predicted = rf.predict(X)\n",
    "accuracy44 = accuracy_score(Y, predicted)"
   ]
  },
  {
   "cell_type": "code",
   "execution_count": 43,
   "metadata": {},
   "outputs": [
    {
     "data": {
      "text/html": [
       "<div>\n",
       "<style scoped>\n",
       "    .dataframe tbody tr th:only-of-type {\n",
       "        vertical-align: middle;\n",
       "    }\n",
       "\n",
       "    .dataframe tbody tr th {\n",
       "        vertical-align: top;\n",
       "    }\n",
       "\n",
       "    .dataframe thead th {\n",
       "        text-align: right;\n",
       "    }\n",
       "</style>\n",
       "<table border=\"1\" class=\"dataframe\">\n",
       "  <thead>\n",
       "    <tr style=\"text-align: right;\">\n",
       "      <th></th>\n",
       "      <th>scale</th>\n",
       "      <th>train</th>\n",
       "      <th>test</th>\n",
       "    </tr>\n",
       "  </thead>\n",
       "  <tbody>\n",
       "    <tr>\n",
       "      <th>0</th>\n",
       "      <td>scale</td>\n",
       "      <td>0.978723</td>\n",
       "      <td>0.603774</td>\n",
       "    </tr>\n",
       "    <tr>\n",
       "      <th>1</th>\n",
       "      <td>robust</td>\n",
       "      <td>0.965957</td>\n",
       "      <td>0.566038</td>\n",
       "    </tr>\n",
       "    <tr>\n",
       "      <th>2</th>\n",
       "      <td>minmax</td>\n",
       "      <td>0.978723</td>\n",
       "      <td>0.603774</td>\n",
       "    </tr>\n",
       "    <tr>\n",
       "      <th>3</th>\n",
       "      <td>maxabs</td>\n",
       "      <td>0.961702</td>\n",
       "      <td>0.603774</td>\n",
       "    </tr>\n",
       "  </tbody>\n",
       "</table>\n",
       "</div>"
      ],
      "text/plain": [
       "    scale     train      test\n",
       "0   scale  0.978723  0.603774\n",
       "1  robust  0.965957  0.566038\n",
       "2  minmax  0.978723  0.603774\n",
       "3  maxabs  0.961702  0.603774"
      ]
     },
     "execution_count": 43,
     "metadata": {},
     "output_type": "execute_result"
    }
   ],
   "source": [
    "pd.DataFrame({'scale':['scale','robust','minmax','maxabs'],'train':[accuracy1,accuracy2,accuracy3,accuracy4],\n",
    "             'test':[accuracy11,accuracy22,accuracy33,accuracy44]})"
   ]
  },
  {
   "cell_type": "code",
   "execution_count": null,
   "metadata": {},
   "outputs": [],
   "source": []
  }
 ],
 "metadata": {
  "kernelspec": {
   "display_name": "Python [default]",
   "language": "python",
   "name": "python3"
  },
  "language_info": {
   "codemirror_mode": {
    "name": "ipython",
    "version": 3
   },
   "file_extension": ".py",
   "mimetype": "text/x-python",
   "name": "python",
   "nbconvert_exporter": "python",
   "pygments_lexer": "ipython3",
   "version": "3.7.0"
  }
 },
 "nbformat": 4,
 "nbformat_minor": 2
}
