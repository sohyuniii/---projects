{
 "cells": [
  {
   "cell_type": "code",
   "execution_count": 12,
   "metadata": {},
   "outputs": [],
   "source": [
    "import warnings\n",
    "warnings.filterwarnings(\"ignore\")\n",
    "\n",
    "import numpy as np\n",
    "import pandas as pd\n",
    "import time\n",
    "from pandas import DataFrame\n",
    "from sklearn.preprocessing import scale\n",
    "from sklearn.model_selection import KFold\n",
    "from sklearn.metrics import confusion_matrix, classification_report, precision_score,accuracy_score\n",
    "from sklearn.preprocessing import StandardScaler\n",
    "from sklearn.preprocessing import MaxAbsScaler\n",
    "standardsc = StandardScaler()\n",
    "mas = MaxAbsScaler()"
   ]
  },
  {
   "cell_type": "code",
   "execution_count": 2,
   "metadata": {},
   "outputs": [],
   "source": [
    "tcga = pd.read_csv('TCGA_data.csv')\n",
    "tcga.drop('cancer', axis = 1, inplace = True)\n",
    "tcga = tcga.sort_index(axis=1)\n",
    "tcga['y'] = tcga['y'].replace(['KIRC','KIRP','KICH'],['RC','RC','RC'])\n",
    "\n",
    "from sklearn.preprocessing import LabelEncoder\n",
    "lb_make = LabelEncoder()\n",
    "tcga[\"y_encode\"] = lb_make.fit_transform(tcga[\"y\"])"
   ]
  },
  {
   "cell_type": "code",
   "execution_count": 10,
   "metadata": {},
   "outputs": [
    {
     "data": {
      "text/plain": [
       "BLCA        51\n",
       "NL          28\n",
       "PRAD        23\n",
       "RCC_100k    21\n",
       "Name: y, dtype: int64"
      ]
     },
     "execution_count": 10,
     "metadata": {},
     "output_type": "execute_result"
    }
   ],
   "source": [
    "urine = pd.read_csv('urine_k15_0419.csv')\n",
    "urine.drop(['Unnamed: 0','X'],axis=1,inplace=True)\n",
    "urine = urine.sort_index(axis=1)\n",
    "urine.y.value_counts()"
   ]
  },
  {
   "cell_type": "code",
   "execution_count": 11,
   "metadata": {},
   "outputs": [
    {
     "name": "stdout",
     "output_type": "stream",
     "text": [
      "Urine data shape: (123, 787)\n"
     ]
    },
    {
     "data": {
      "text/plain": [
       "0     51\n",
       "12    28\n",
       "19    23\n",
       "17    21\n",
       "Name: y, dtype: int64"
      ]
     },
     "execution_count": 11,
     "metadata": {},
     "output_type": "execute_result"
    }
   ],
   "source": [
    "urine = urine.replace(['BLCA','NL','PRAD','RCC_100k'],[ 0,12,19,17])\n",
    "urine = urine.reset_index(drop = True)\n",
    "print('Urine data shape:',urine.shape)\n",
    "urine.y.value_counts()"
   ]
  },
  {
   "cell_type": "code",
   "execution_count": 14,
   "metadata": {},
   "outputs": [],
   "source": [
    "X = tcga.drop(['y','y_encode'], axis=1)\n",
    "y = tcga['y_encode']\n",
    "\n",
    "standardsc.fit(X)\n",
    "X_standar = standardsc.transform(X)\n",
    "urine_standar = standardsc.transform(urine.drop('y', axis = 1))\n",
    "\n",
    "mas.fit(X)\n",
    "X_mas = standardsc.transform(X)\n",
    "urine_mas = mas.transform(urine.drop('y', axis = 1))"
   ]
  },
  {
   "cell_type": "code",
   "execution_count": 5,
   "metadata": {},
   "outputs": [],
   "source": [
    "def pred_accuracy(model) :\n",
    "    pred = model.predict(urine.drop('y', axis = 1))\n",
    "    df_pred = pd.DataFrame({'actual':urine['y'],'predict':pred})\n",
    "    \n",
    "    BC = df_pred.loc[df_pred['actual']==0]\n",
    "    NL = df_pred.loc[df_pred['actual']==15]\n",
    "    PC = df_pred.loc[df_pred['actual']==19]\n",
    "    \n",
    "    BC_pred = BC.loc[BC['predict']==0]\n",
    "    NL_pred = NL.loc[NL['predict']==15]\n",
    "    PC_pred = PC.loc[PC['predict']==19]\n",
    "    \n",
    "    print('BC accuracy : {0:.4f}'.format(BC_pred.shape[0]/BC.shape[0]))\n",
    "    print('Normal accuracy : {0:.4f}'.format(NL_pred.shape[0]/NL.shape[0]))\n",
    "    print('PC accuracy : {0:.4f}'.format(PC_pred.shape[0]/PC.shape[0]))"
   ]
  },
  {
   "cell_type": "code",
   "execution_count": null,
   "metadata": {},
   "outputs": [],
   "source": []
  },
  {
   "cell_type": "markdown",
   "metadata": {},
   "source": [
    "# Random Forest"
   ]
  },
  {
   "cell_type": "code",
   "execution_count": 16,
   "metadata": {},
   "outputs": [
    {
     "name": "stdout",
     "output_type": "stream",
     "text": [
      "sec : 45.42\n",
      "RF accuracy : 0.0407\n"
     ]
    }
   ],
   "source": [
    "from sklearn.ensemble import RandomForestClassifier\n",
    "\n",
    "rf = RandomForestClassifier(random_state = 0, n_jobs = -1, max_depth=75,n_estimators=500)\n",
    "rf.fit(X_mas,y)\n",
    "pred = rf.predict(urine_mas)\n",
    "accuracy = accuracy_score(urine['y'],pred)\n",
    "print('RF accuracy : {0:.4f}'.format(accuracy))"
   ]
  },
  {
   "cell_type": "code",
   "execution_count": 17,
   "metadata": {},
   "outputs": [
    {
     "name": "stdout",
     "output_type": "stream",
     "text": [
      "RF accuracy : 0.1545\n"
     ]
    }
   ],
   "source": [
    "rf = RandomForestClassifier(random_state = 0, n_jobs = -1, max_depth=75,n_estimators=500)\n",
    "rf.fit(X,y)\n",
    "pred = rf.predict(urine.drop('y', axis = 1))\n",
    "accuracy = accuracy_score(urine['y'],pred)\n",
    "print('RF accuracy : {0:.4f}'.format(accuracy))"
   ]
  },
  {
   "cell_type": "code",
   "execution_count": null,
   "metadata": {},
   "outputs": [],
   "source": []
  },
  {
   "cell_type": "code",
   "execution_count": null,
   "metadata": {},
   "outputs": [],
   "source": []
  },
  {
   "cell_type": "markdown",
   "metadata": {},
   "source": [
    "# Logistic"
   ]
  },
  {
   "cell_type": "code",
   "execution_count": 6,
   "metadata": {},
   "outputs": [],
   "source": [
    "from sklearn.pipeline import Pipeline\n",
    "from sklearn.preprocessing import StandardScaler,MinMaxScaler,MaxAbsScaler\n",
    "from sklearn.linear_model import LogisticRegression\n",
    "\n",
    "standardsc = StandardScaler()\n",
    "mms = MinMaxScaler()\n",
    "mas = MaxAbsScaler()\n",
    "\n",
    "lr = LogisticRegression()"
   ]
  },
  {
   "cell_type": "code",
   "execution_count": 12,
   "metadata": {},
   "outputs": [],
   "source": [
    "def model_pipeline(model) :\n",
    "    pipeline1 = Pipeline([('StandardScaler', standardsc), ('Logistic', model)])\n",
    "    pipeline2 = Pipeline([('MinMaxScaler', mms), ('Logistic', model)])\n",
    "    pipeline3 = Pipeline([('MaxAbsScaler', mas), ('Logistic', model)])\n",
    "\n",
    "    cv_acc = []\n",
    "    pip1_acc = []\n",
    "    pip2_acc = []\n",
    "    pip3_acc = []\n",
    "\n",
    "    for i, (tr_ind, te_ind) in enumerate(skf.split(X,y)) :\n",
    "\n",
    "        X_train, X_test = X.iloc[tr_ind], X.iloc[te_ind]\n",
    "        y_train, y_test = y[tr_ind], y[te_ind]\n",
    "\n",
    "        model.fit(X_train, y_train)\n",
    "        pipeline1.fit(X_train, y_train)\n",
    "        pipeline2.fit(X_train, y_train)\n",
    "        pipeline3.fit(X_train, y_train)\n",
    "\n",
    "        cv_acc.append(accuracy_score(y[te_ind], model.predict(X_test)))\n",
    "        pip1_acc.append(accuracy_score(y[te_ind], pipeline1.predict(X_test)))\n",
    "        pip2_acc.append(accuracy_score(y[te_ind], pipeline2.predict(X_test)))\n",
    "        pip3_acc.append(accuracy_score(y[te_ind], pipeline3.predict(X_test)))\n",
    "\n",
    "        print('{0} 번째 accuracy non_scale : {1:.4f}% StandardScale : {2:.4f}% MinMax : {3:.4f}% MaxAbs : {4:.4f}%'.format(i,cv_acc[i],pip1_acc[i],pip2_acc[i],pip3_acc[i]))\n",
    "\n",
    "    print('\\n mean accuracy non_scale : {0:.4f}% StandardScale : {1:.4f}% MinMax : {2:.4f}% MaxAbs : {3:.4f}%'.format(np.mean(cv_acc),np.mean(pip1_acc),np.mean(pip2_acc),np.mean(pip3_acc)))"
   ]
  },
  {
   "cell_type": "code",
   "execution_count": null,
   "metadata": {},
   "outputs": [
    {
     "name": "stdout",
     "output_type": "stream",
     "text": [
      "0 번째 accuracy non_scale : 0.8048% StandardScale : 0.7896% MinMax : 0.5000% MaxAbs : 0.7944%\n",
      "1 번째 accuracy non_scale : 0.7990% StandardScale : 0.7821% MinMax : 0.4958% MaxAbs : 0.7886%\n",
      "2 번째 accuracy non_scale : 0.7999% StandardScale : 0.7801% MinMax : 0.4975% MaxAbs : 0.7929%\n",
      "3 번째 accuracy non_scale : 0.8035% StandardScale : 0.7786% MinMax : 0.4978% MaxAbs : 0.7876%\n"
     ]
    }
   ],
   "source": [
    "model_pipeline(lr)"
   ]
  },
  {
   "cell_type": "code",
   "execution_count": 7,
   "metadata": {},
   "outputs": [
    {
     "name": "stdout",
     "output_type": "stream",
     "text": [
      "sec :  108.8355324268341\n"
     ]
    }
   ],
   "source": [
    "from sklearn.linear_model import LogisticRegression\n",
    "start_time = time.time()\n",
    "lr = LogisticRegression(n_jobs=-1)\n",
    "lr.fit(X,y)\n",
    "print('sec : ',time.time()-start_time) # 2 minutes"
   ]
  },
  {
   "cell_type": "code",
   "execution_count": 8,
   "metadata": {},
   "outputs": [
    {
     "name": "stdout",
     "output_type": "stream",
     "text": [
      "Logistic accuracy : 0.3253\n"
     ]
    }
   ],
   "source": [
    "pred = lr.predict(urine.drop('y', axis = 1))\n",
    "accuracy = accuracy_score(urine['y'],pred)\n",
    "print('Logistic accuracy : {0:.4f}'.format(accuracy))"
   ]
  },
  {
   "cell_type": "code",
   "execution_count": 9,
   "metadata": {},
   "outputs": [
    {
     "name": "stdout",
     "output_type": "stream",
     "text": [
      "BC accuracy : 0.1190\n",
      "Normal accuracy : 1.0000\n",
      "PC accuracy : 0.0500\n"
     ]
    }
   ],
   "source": [
    "pred_accuracy(lr)"
   ]
  },
  {
   "cell_type": "code",
   "execution_count": 11,
   "metadata": {},
   "outputs": [],
   "source": [
    "pred = lr.predict(urine.drop('y', axis = 1))\n",
    "df_pred = pd.DataFrame({'actual':urine['y'],'predict':pred})\n"
   ]
  },
  {
   "cell_type": "code",
   "execution_count": 23,
   "metadata": {},
   "outputs": [
    {
     "data": {
      "text/plain": [
       "15    0.309524\n",
       "0     0.119048\n",
       "5     0.095238\n",
       "27    0.071429\n",
       "19    0.071429\n",
       "13    0.071429\n",
       "2     0.071429\n",
       "25    0.047619\n",
       "11    0.047619\n",
       "1     0.047619\n",
       "14    0.023810\n",
       "10    0.023810\n",
       "Name: predict, dtype: float64"
      ]
     },
     "execution_count": 23,
     "metadata": {},
     "output_type": "execute_result"
    }
   ],
   "source": [
    "df_pred[df_pred['actual']==0].predict.value_counts()/len(df_pred[df_pred['actual']==0])"
   ]
  },
  {
   "cell_type": "code",
   "execution_count": 17,
   "metadata": {},
   "outputs": [
    {
     "data": {
      "text/plain": [
       "15    21\n",
       "Name: predict, dtype: int64"
      ]
     },
     "execution_count": 17,
     "metadata": {},
     "output_type": "execute_result"
    }
   ],
   "source": [
    "df_pred[df_pred['actual']==15].predict.value_counts()"
   ]
  },
  {
   "cell_type": "code",
   "execution_count": 24,
   "metadata": {},
   "outputs": [
    {
     "data": {
      "text/plain": [
       "15    0.60\n",
       "5     0.10\n",
       "3     0.10\n",
       "27    0.05\n",
       "19    0.05\n",
       "11    0.05\n",
       "1     0.05\n",
       "Name: predict, dtype: float64"
      ]
     },
     "execution_count": 24,
     "metadata": {},
     "output_type": "execute_result"
    }
   ],
   "source": [
    "df_pred[df_pred['actual']==19].predict.value_counts()/len(df_pred[df_pred['actual']==19])"
   ]
  },
  {
   "cell_type": "markdown",
   "metadata": {},
   "source": [
    "# LightGBM"
   ]
  },
  {
   "cell_type": "code",
   "execution_count": 15,
   "metadata": {},
   "outputs": [
    {
     "name": "stdout",
     "output_type": "stream",
     "text": [
      "sec :  236.48080492019653\n"
     ]
    }
   ],
   "source": [
    "from lightgbm import LGBMClassifier\n",
    "start_time = time.time()\n",
    "\n",
    "lgbm_clf = LGBMClassifier(n_estimators=200, n_jobs=-1)\n",
    "lgbm_clf.fit(X, y, eval_metric=\"logloss\", verbose=50)\n",
    "print('sec : ',time.time()-start_time) # 4 minutes"
   ]
  },
  {
   "cell_type": "code",
   "execution_count": 16,
   "metadata": {},
   "outputs": [
    {
     "name": "stdout",
     "output_type": "stream",
     "text": [
      "LightGBM accuracy : 0.3373\n"
     ]
    }
   ],
   "source": [
    "pred = lgbm_clf.predict(urine.drop('y', axis = 1))\n",
    "accuracy = accuracy_score(urine['y'], pred)\n",
    "print('LightGBM accuracy : {0:.4f}'.format(accuracy))"
   ]
  },
  {
   "cell_type": "code",
   "execution_count": 17,
   "metadata": {},
   "outputs": [
    {
     "name": "stdout",
     "output_type": "stream",
     "text": [
      "BC accuracy : 0.1667\n",
      "Normal accuracy : 1.0000\n",
      "PC accuracy : 0.0000\n"
     ]
    }
   ],
   "source": [
    "pred_accuracy(lgbm_clf)"
   ]
  },
  {
   "cell_type": "code",
   "execution_count": null,
   "metadata": {},
   "outputs": [],
   "source": []
  }
 ],
 "metadata": {
  "kernelspec": {
   "display_name": "Python 3",
   "language": "python",
   "name": "python3"
  },
  "language_info": {
   "codemirror_mode": {
    "name": "ipython",
    "version": 3
   },
   "file_extension": ".py",
   "mimetype": "text/x-python",
   "name": "python",
   "nbconvert_exporter": "python",
   "pygments_lexer": "ipython3",
   "version": "3.5.2"
  }
 },
 "nbformat": 4,
 "nbformat_minor": 2
}
