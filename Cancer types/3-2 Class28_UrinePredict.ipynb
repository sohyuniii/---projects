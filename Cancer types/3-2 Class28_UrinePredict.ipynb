{
 "cells": [
  {
   "cell_type": "code",
   "execution_count": 1,
   "metadata": {},
   "outputs": [],
   "source": [
    "import warnings\n",
    "warnings.filterwarnings(\"ignore\")\n",
    "\n",
    "import numpy as np\n",
    "import pandas as pd\n",
    "import time\n",
    "from pandas import DataFrame\n",
    "from sklearn.preprocessing import scale\n",
    "from sklearn.model_selection import KFold\n",
    "from sklearn.metrics import confusion_matrix, classification_report, precision_score,accuracy_score\n",
    "from sklearn.preprocessing import StandardScaler\n",
    "from sklearn.preprocessing import MaxAbsScaler\n",
    "standardsc = StandardScaler()\n",
    "mas = MaxAbsScaler()"
   ]
  },
  {
   "cell_type": "code",
   "execution_count": 26,
   "metadata": {},
   "outputs": [],
   "source": [
    "tcga = pd.read_csv('TCGA_data.csv')\n",
    "tcga.drop('cancer', axis = 1, inplace = True)\n",
    "tcga = tcga.sort_index(axis=1)\n",
    "tcga['y'] = tcga['y'].replace(['KIRC','KIRP','KICH'],['RC','RC','RC'])\n",
    "\n",
    "from sklearn.preprocessing import LabelEncoder\n",
    "lb_make = LabelEncoder()\n",
    "tcga[\"y_encode\"] = lb_make.fit_transform(tcga[\"y\"])"
   ]
  },
  {
   "cell_type": "code",
   "execution_count": null,
   "metadata": {},
   "outputs": [],
   "source": []
  },
  {
   "cell_type": "code",
   "execution_count": 82,
   "metadata": {},
   "outputs": [
    {
     "data": {
      "text/html": [
       "<div>\n",
       "<style scoped>\n",
       "    .dataframe tbody tr th:only-of-type {\n",
       "        vertical-align: middle;\n",
       "    }\n",
       "\n",
       "    .dataframe tbody tr th {\n",
       "        vertical-align: top;\n",
       "    }\n",
       "\n",
       "    .dataframe thead th {\n",
       "        text-align: right;\n",
       "    }\n",
       "</style>\n",
       "<table border=\"1\" class=\"dataframe\">\n",
       "  <thead>\n",
       "    <tr style=\"text-align: right;\">\n",
       "      <th></th>\n",
       "      <th>cyto.10p11.1</th>\n",
       "      <th>cyto.10p11.21</th>\n",
       "      <th>cyto.10p11.22</th>\n",
       "      <th>cyto.10p11.23</th>\n",
       "      <th>cyto.10p12.1</th>\n",
       "      <th>cyto.10p12.2</th>\n",
       "      <th>cyto.10p12.31</th>\n",
       "      <th>cyto.10p12.32</th>\n",
       "      <th>cyto.10p12.33</th>\n",
       "      <th>cyto.10p13</th>\n",
       "      <th>...</th>\n",
       "      <th>cyto.9q33.1</th>\n",
       "      <th>cyto.9q33.2</th>\n",
       "      <th>cyto.9q33.3</th>\n",
       "      <th>cyto.9q34.11</th>\n",
       "      <th>cyto.9q34.12</th>\n",
       "      <th>cyto.9q34.13</th>\n",
       "      <th>cyto.9q34.2</th>\n",
       "      <th>cyto.9q34.3</th>\n",
       "      <th>y</th>\n",
       "      <th>y_encode</th>\n",
       "    </tr>\n",
       "  </thead>\n",
       "  <tbody>\n",
       "    <tr>\n",
       "      <th>0</th>\n",
       "      <td>-0.1608</td>\n",
       "      <td>0.2213</td>\n",
       "      <td>0.2213</td>\n",
       "      <td>0.2213</td>\n",
       "      <td>0.2213</td>\n",
       "      <td>0.2213</td>\n",
       "      <td>0.2213</td>\n",
       "      <td>0.2213</td>\n",
       "      <td>0.2213</td>\n",
       "      <td>0.2213</td>\n",
       "      <td>...</td>\n",
       "      <td>-0.1732</td>\n",
       "      <td>-0.1732</td>\n",
       "      <td>-0.1732</td>\n",
       "      <td>-0.1732</td>\n",
       "      <td>-0.1732</td>\n",
       "      <td>-0.1732</td>\n",
       "      <td>-0.1732</td>\n",
       "      <td>-0.1732</td>\n",
       "      <td>BLCA</td>\n",
       "      <td>0</td>\n",
       "    </tr>\n",
       "    <tr>\n",
       "      <th>1</th>\n",
       "      <td>-0.0017</td>\n",
       "      <td>-0.0017</td>\n",
       "      <td>-0.0017</td>\n",
       "      <td>-0.0017</td>\n",
       "      <td>-0.0017</td>\n",
       "      <td>-0.0017</td>\n",
       "      <td>-0.0017</td>\n",
       "      <td>-0.0017</td>\n",
       "      <td>-0.0017</td>\n",
       "      <td>-0.0017</td>\n",
       "      <td>...</td>\n",
       "      <td>0.0009</td>\n",
       "      <td>0.0009</td>\n",
       "      <td>0.0009</td>\n",
       "      <td>0.0009</td>\n",
       "      <td>0.0009</td>\n",
       "      <td>0.0009</td>\n",
       "      <td>0.0009</td>\n",
       "      <td>0.0009</td>\n",
       "      <td>Normal</td>\n",
       "      <td>12</td>\n",
       "    </tr>\n",
       "    <tr>\n",
       "      <th>2</th>\n",
       "      <td>-0.2733</td>\n",
       "      <td>0.0403</td>\n",
       "      <td>0.0403</td>\n",
       "      <td>0.0403</td>\n",
       "      <td>0.0356</td>\n",
       "      <td>0.0356</td>\n",
       "      <td>0.0356</td>\n",
       "      <td>0.0356</td>\n",
       "      <td>0.0356</td>\n",
       "      <td>0.0356</td>\n",
       "      <td>...</td>\n",
       "      <td>-0.2716</td>\n",
       "      <td>-0.2716</td>\n",
       "      <td>-0.2716</td>\n",
       "      <td>-0.3456</td>\n",
       "      <td>-0.3456</td>\n",
       "      <td>0.2685</td>\n",
       "      <td>-0.3587</td>\n",
       "      <td>-0.3587</td>\n",
       "      <td>BLCA</td>\n",
       "      <td>0</td>\n",
       "    </tr>\n",
       "    <tr>\n",
       "      <th>3</th>\n",
       "      <td>0.0013</td>\n",
       "      <td>0.0013</td>\n",
       "      <td>0.0013</td>\n",
       "      <td>0.0013</td>\n",
       "      <td>-0.0057</td>\n",
       "      <td>0.0053</td>\n",
       "      <td>0.0053</td>\n",
       "      <td>0.0053</td>\n",
       "      <td>0.0053</td>\n",
       "      <td>0.0053</td>\n",
       "      <td>...</td>\n",
       "      <td>0.0015</td>\n",
       "      <td>0.0015</td>\n",
       "      <td>0.0015</td>\n",
       "      <td>0.0015</td>\n",
       "      <td>0.0015</td>\n",
       "      <td>0.0015</td>\n",
       "      <td>0.0015</td>\n",
       "      <td>0.0015</td>\n",
       "      <td>Normal</td>\n",
       "      <td>12</td>\n",
       "    </tr>\n",
       "    <tr>\n",
       "      <th>4</th>\n",
       "      <td>-0.0003</td>\n",
       "      <td>-0.0003</td>\n",
       "      <td>-0.0003</td>\n",
       "      <td>-0.0003</td>\n",
       "      <td>-0.0003</td>\n",
       "      <td>-0.0002</td>\n",
       "      <td>-0.0002</td>\n",
       "      <td>-0.0002</td>\n",
       "      <td>-0.0002</td>\n",
       "      <td>-0.0002</td>\n",
       "      <td>...</td>\n",
       "      <td>-0.0024</td>\n",
       "      <td>-0.0024</td>\n",
       "      <td>-0.0024</td>\n",
       "      <td>-0.0024</td>\n",
       "      <td>-0.0024</td>\n",
       "      <td>-0.0024</td>\n",
       "      <td>-0.0024</td>\n",
       "      <td>-0.0024</td>\n",
       "      <td>Normal</td>\n",
       "      <td>12</td>\n",
       "    </tr>\n",
       "  </tbody>\n",
       "</table>\n",
       "<p>5 rows × 788 columns</p>\n",
       "</div>"
      ],
      "text/plain": [
       "   cyto.10p11.1  cyto.10p11.21  cyto.10p11.22  cyto.10p11.23  cyto.10p12.1  \\\n",
       "0       -0.1608         0.2213         0.2213         0.2213        0.2213   \n",
       "1       -0.0017        -0.0017        -0.0017        -0.0017       -0.0017   \n",
       "2       -0.2733         0.0403         0.0403         0.0403        0.0356   \n",
       "3        0.0013         0.0013         0.0013         0.0013       -0.0057   \n",
       "4       -0.0003        -0.0003        -0.0003        -0.0003       -0.0003   \n",
       "\n",
       "   cyto.10p12.2  cyto.10p12.31  cyto.10p12.32  cyto.10p12.33  cyto.10p13  ...  \\\n",
       "0        0.2213         0.2213         0.2213         0.2213      0.2213  ...   \n",
       "1       -0.0017        -0.0017        -0.0017        -0.0017     -0.0017  ...   \n",
       "2        0.0356         0.0356         0.0356         0.0356      0.0356  ...   \n",
       "3        0.0053         0.0053         0.0053         0.0053      0.0053  ...   \n",
       "4       -0.0002        -0.0002        -0.0002        -0.0002     -0.0002  ...   \n",
       "\n",
       "   cyto.9q33.1  cyto.9q33.2  cyto.9q33.3  cyto.9q34.11  cyto.9q34.12  \\\n",
       "0      -0.1732      -0.1732      -0.1732       -0.1732       -0.1732   \n",
       "1       0.0009       0.0009       0.0009        0.0009        0.0009   \n",
       "2      -0.2716      -0.2716      -0.2716       -0.3456       -0.3456   \n",
       "3       0.0015       0.0015       0.0015        0.0015        0.0015   \n",
       "4      -0.0024      -0.0024      -0.0024       -0.0024       -0.0024   \n",
       "\n",
       "   cyto.9q34.13  cyto.9q34.2  cyto.9q34.3       y  y_encode  \n",
       "0       -0.1732      -0.1732      -0.1732    BLCA         0  \n",
       "1        0.0009       0.0009       0.0009  Normal        12  \n",
       "2        0.2685      -0.3587      -0.3587    BLCA         0  \n",
       "3        0.0015       0.0015       0.0015  Normal        12  \n",
       "4       -0.0024      -0.0024      -0.0024  Normal        12  \n",
       "\n",
       "[5 rows x 788 columns]"
      ]
     },
     "execution_count": 82,
     "metadata": {},
     "output_type": "execute_result"
    }
   ],
   "source": [
    "tcga.head()"
   ]
  },
  {
   "cell_type": "code",
   "execution_count": 184,
   "metadata": {},
   "outputs": [
    {
     "data": {
      "text/plain": [
       "BLCA      42\n",
       "Normal    28\n",
       "PRAD      23\n",
       "RC        23\n",
       "Name: y, dtype: int64"
      ]
     },
     "execution_count": 184,
     "metadata": {},
     "output_type": "execute_result"
    }
   ],
   "source": [
    "urine = pd.read_csv('urine_k15_140cases.csv')\n",
    "urine['y'] = urine['y'].replace(['BLCA_15k','NL_15k','PRAD_15k','RCC_100k'],['BLCA','Normal','PRAD','RC'])\n",
    "urine.drop(['Unnamed: 0','X'],axis=1,inplace=True)\n",
    "urine = urine.sort_index(axis=1)\n",
    "urine.y.value_counts()"
   ]
  },
  {
   "cell_type": "code",
   "execution_count": 186,
   "metadata": {},
   "outputs": [
    {
     "name": "stdout",
     "output_type": "stream",
     "text": [
      "Urine data shape: (116, 788)\n"
     ]
    },
    {
     "data": {
      "text/plain": [
       "0     42\n",
       "12    28\n",
       "17    23\n",
       "16    23\n",
       "Name: y_encode, dtype: int64"
      ]
     },
     "execution_count": 186,
     "metadata": {},
     "output_type": "execute_result"
    }
   ],
   "source": [
    "urine['y_encode'] = urine['y'].replace(['BLCA','Normal','PRAD','RC'],[0,12,16,17])\n",
    "urine = urine.reset_index(drop = True)\n",
    "print('Urine data shape:',urine.shape)\n",
    "urine.y_encode.value_counts()"
   ]
  },
  {
   "cell_type": "code",
   "execution_count": 41,
   "metadata": {},
   "outputs": [
    {
     "data": {
      "text/plain": [
       "(20715, 761)"
      ]
     },
     "execution_count": 41,
     "metadata": {},
     "output_type": "execute_result"
    }
   ],
   "source": [
    "X.shape"
   ]
  },
  {
   "cell_type": "code",
   "execution_count": 42,
   "metadata": {},
   "outputs": [
    {
     "data": {
      "text/plain": [
       "(116, 761)"
      ]
     },
     "execution_count": 42,
     "metadata": {},
     "output_type": "execute_result"
    }
   ],
   "source": [
    "urine.loc[:,lst].shape"
   ]
  },
  {
   "cell_type": "code",
   "execution_count": 46,
   "metadata": {},
   "outputs": [
    {
     "name": "stdout",
     "output_type": "stream",
     "text": [
      "<class 'pandas.core.frame.DataFrame'>\n",
      "RangeIndex: 20715 entries, 0 to 20714\n",
      "Columns: 761 entries, cyto.10p11.1 to cyto.9q12\n",
      "dtypes: float64(761)\n",
      "memory usage: 120.3 MB\n"
     ]
    }
   ],
   "source": [
    "X.info()"
   ]
  },
  {
   "cell_type": "code",
   "execution_count": 44,
   "metadata": {},
   "outputs": [
    {
     "name": "stdout",
     "output_type": "stream",
     "text": [
      "<class 'pandas.core.frame.DataFrame'>\n",
      "RangeIndex: 116 entries, 0 to 115\n",
      "Columns: 761 entries, cyto.10p11.1 to cyto.9q12\n",
      "dtypes: float64(741), int64(20)\n",
      "memory usage: 689.7 KB\n"
     ]
    }
   ],
   "source": [
    "urine.loc[:,lst].info()"
   ]
  },
  {
   "cell_type": "code",
   "execution_count": 45,
   "metadata": {},
   "outputs": [
    {
     "data": {
      "text/html": [
       "<div>\n",
       "<style scoped>\n",
       "    .dataframe tbody tr th:only-of-type {\n",
       "        vertical-align: middle;\n",
       "    }\n",
       "\n",
       "    .dataframe tbody tr th {\n",
       "        vertical-align: top;\n",
       "    }\n",
       "\n",
       "    .dataframe thead th {\n",
       "        text-align: right;\n",
       "    }\n",
       "</style>\n",
       "<table border=\"1\" class=\"dataframe\">\n",
       "  <thead>\n",
       "    <tr style=\"text-align: right;\">\n",
       "      <th></th>\n",
       "      <th>cyto.10p11.1</th>\n",
       "      <th>cyto.10p11.21</th>\n",
       "      <th>cyto.10p11.22</th>\n",
       "      <th>cyto.10p11.23</th>\n",
       "      <th>cyto.10p12.1</th>\n",
       "      <th>cyto.10p12.2</th>\n",
       "      <th>cyto.10p12.31</th>\n",
       "      <th>cyto.10p12.32</th>\n",
       "      <th>cyto.10p12.33</th>\n",
       "      <th>cyto.10p13</th>\n",
       "      <th>...</th>\n",
       "      <th>cyto.9p21.3</th>\n",
       "      <th>cyto.9p22.1</th>\n",
       "      <th>cyto.9p22.2</th>\n",
       "      <th>cyto.9p22.3</th>\n",
       "      <th>cyto.9p23</th>\n",
       "      <th>cyto.9p24.1</th>\n",
       "      <th>cyto.9p24.2</th>\n",
       "      <th>cyto.9p24.3</th>\n",
       "      <th>cyto.9q11</th>\n",
       "      <th>cyto.9q12</th>\n",
       "    </tr>\n",
       "  </thead>\n",
       "  <tbody>\n",
       "    <tr>\n",
       "      <th>0</th>\n",
       "      <td>0.07148</td>\n",
       "      <td>-0.079833</td>\n",
       "      <td>-0.073905</td>\n",
       "      <td>-0.146039</td>\n",
       "      <td>-0.051357</td>\n",
       "      <td>0.013945</td>\n",
       "      <td>-0.007236</td>\n",
       "      <td>0.000625</td>\n",
       "      <td>-0.053185</td>\n",
       "      <td>-0.011618</td>\n",
       "      <td>...</td>\n",
       "      <td>-0.306351</td>\n",
       "      <td>-0.178345</td>\n",
       "      <td>-0.273368</td>\n",
       "      <td>-0.346382</td>\n",
       "      <td>-0.405683</td>\n",
       "      <td>-0.365723</td>\n",
       "      <td>-0.345233</td>\n",
       "      <td>-0.435040</td>\n",
       "      <td>0</td>\n",
       "      <td>0</td>\n",
       "    </tr>\n",
       "    <tr>\n",
       "      <th>1</th>\n",
       "      <td>-0.12932</td>\n",
       "      <td>0.190294</td>\n",
       "      <td>0.188995</td>\n",
       "      <td>0.069176</td>\n",
       "      <td>0.220376</td>\n",
       "      <td>0.149961</td>\n",
       "      <td>0.242552</td>\n",
       "      <td>0.529625</td>\n",
       "      <td>0.363593</td>\n",
       "      <td>0.222045</td>\n",
       "      <td>...</td>\n",
       "      <td>0.176551</td>\n",
       "      <td>-0.048184</td>\n",
       "      <td>0.082888</td>\n",
       "      <td>0.139268</td>\n",
       "      <td>0.238504</td>\n",
       "      <td>0.118361</td>\n",
       "      <td>0.070107</td>\n",
       "      <td>0.168079</td>\n",
       "      <td>0</td>\n",
       "      <td>0</td>\n",
       "    </tr>\n",
       "    <tr>\n",
       "      <th>2</th>\n",
       "      <td>0.02776</td>\n",
       "      <td>-0.023271</td>\n",
       "      <td>0.010196</td>\n",
       "      <td>-0.002549</td>\n",
       "      <td>0.007475</td>\n",
       "      <td>-0.005758</td>\n",
       "      <td>0.022784</td>\n",
       "      <td>-0.005625</td>\n",
       "      <td>0.028611</td>\n",
       "      <td>-0.013248</td>\n",
       "      <td>...</td>\n",
       "      <td>0.007438</td>\n",
       "      <td>-0.016299</td>\n",
       "      <td>-0.021128</td>\n",
       "      <td>-0.048223</td>\n",
       "      <td>-0.030896</td>\n",
       "      <td>0.002891</td>\n",
       "      <td>-0.009390</td>\n",
       "      <td>-0.023008</td>\n",
       "      <td>0</td>\n",
       "      <td>0</td>\n",
       "    </tr>\n",
       "    <tr>\n",
       "      <th>3</th>\n",
       "      <td>0.07060</td>\n",
       "      <td>0.134122</td>\n",
       "      <td>0.044377</td>\n",
       "      <td>0.034588</td>\n",
       "      <td>0.020895</td>\n",
       "      <td>0.016102</td>\n",
       "      <td>-0.001632</td>\n",
       "      <td>0.013375</td>\n",
       "      <td>0.065611</td>\n",
       "      <td>0.000075</td>\n",
       "      <td>...</td>\n",
       "      <td>0.001227</td>\n",
       "      <td>-0.011414</td>\n",
       "      <td>-0.002592</td>\n",
       "      <td>-0.018350</td>\n",
       "      <td>0.005360</td>\n",
       "      <td>-0.009754</td>\n",
       "      <td>-0.014314</td>\n",
       "      <td>-0.042675</td>\n",
       "      <td>0</td>\n",
       "      <td>0</td>\n",
       "    </tr>\n",
       "    <tr>\n",
       "      <th>4</th>\n",
       "      <td>-0.15392</td>\n",
       "      <td>0.042317</td>\n",
       "      <td>0.101568</td>\n",
       "      <td>-0.051108</td>\n",
       "      <td>-0.013096</td>\n",
       "      <td>-0.041133</td>\n",
       "      <td>0.028224</td>\n",
       "      <td>-0.286625</td>\n",
       "      <td>0.111352</td>\n",
       "      <td>0.016370</td>\n",
       "      <td>...</td>\n",
       "      <td>0.006641</td>\n",
       "      <td>0.116655</td>\n",
       "      <td>-0.082696</td>\n",
       "      <td>0.065268</td>\n",
       "      <td>0.041112</td>\n",
       "      <td>-0.057340</td>\n",
       "      <td>0.051164</td>\n",
       "      <td>-0.044722</td>\n",
       "      <td>0</td>\n",
       "      <td>0</td>\n",
       "    </tr>\n",
       "  </tbody>\n",
       "</table>\n",
       "<p>5 rows × 761 columns</p>\n",
       "</div>"
      ],
      "text/plain": [
       "   cyto.10p11.1  cyto.10p11.21  cyto.10p11.22  cyto.10p11.23  cyto.10p12.1  \\\n",
       "0       0.07148      -0.079833      -0.073905      -0.146039     -0.051357   \n",
       "1      -0.12932       0.190294       0.188995       0.069176      0.220376   \n",
       "2       0.02776      -0.023271       0.010196      -0.002549      0.007475   \n",
       "3       0.07060       0.134122       0.044377       0.034588      0.020895   \n",
       "4      -0.15392       0.042317       0.101568      -0.051108     -0.013096   \n",
       "\n",
       "   cyto.10p12.2  cyto.10p12.31  cyto.10p12.32  cyto.10p12.33  cyto.10p13  ...  \\\n",
       "0      0.013945      -0.007236       0.000625      -0.053185   -0.011618  ...   \n",
       "1      0.149961       0.242552       0.529625       0.363593    0.222045  ...   \n",
       "2     -0.005758       0.022784      -0.005625       0.028611   -0.013248  ...   \n",
       "3      0.016102      -0.001632       0.013375       0.065611    0.000075  ...   \n",
       "4     -0.041133       0.028224      -0.286625       0.111352    0.016370  ...   \n",
       "\n",
       "   cyto.9p21.3  cyto.9p22.1  cyto.9p22.2  cyto.9p22.3  cyto.9p23  cyto.9p24.1  \\\n",
       "0    -0.306351    -0.178345    -0.273368    -0.346382  -0.405683    -0.365723   \n",
       "1     0.176551    -0.048184     0.082888     0.139268   0.238504     0.118361   \n",
       "2     0.007438    -0.016299    -0.021128    -0.048223  -0.030896     0.002891   \n",
       "3     0.001227    -0.011414    -0.002592    -0.018350   0.005360    -0.009754   \n",
       "4     0.006641     0.116655    -0.082696     0.065268   0.041112    -0.057340   \n",
       "\n",
       "   cyto.9p24.2  cyto.9p24.3  cyto.9q11  cyto.9q12  \n",
       "0    -0.345233    -0.435040          0          0  \n",
       "1     0.070107     0.168079          0          0  \n",
       "2    -0.009390    -0.023008          0          0  \n",
       "3    -0.014314    -0.042675          0          0  \n",
       "4     0.051164    -0.044722          0          0  \n",
       "\n",
       "[5 rows x 761 columns]"
      ]
     },
     "execution_count": 45,
     "metadata": {},
     "output_type": "execute_result"
    }
   ],
   "source": [
    "urine.loc[:,lst].head()"
   ]
  },
  {
   "cell_type": "code",
   "execution_count": null,
   "metadata": {},
   "outputs": [],
   "source": []
  },
  {
   "cell_type": "code",
   "execution_count": 31,
   "metadata": {},
   "outputs": [
    {
     "name": "stdout",
     "output_type": "stream",
     "text": [
      "787\n",
      "788\n"
     ]
    }
   ],
   "source": [
    "print(len(urine.columns))\n",
    "print(len(tcga.columns))"
   ]
  },
  {
   "cell_type": "code",
   "execution_count": 32,
   "metadata": {},
   "outputs": [
    {
     "name": "stdout",
     "output_type": "stream",
     "text": [
      "761\n"
     ]
    }
   ],
   "source": [
    "lst = [i for i in urine.columns if i in X.columns]\n",
    "print(len(lst))"
   ]
  },
  {
   "cell_type": "code",
   "execution_count": 85,
   "metadata": {},
   "outputs": [],
   "source": [
    "X = tcga.loc[:,lst]\n",
    "y = tcga['y_encode']\n",
    "\n",
    "standardsc.fit(X)\n",
    "X_standar = pd.DataFrame(standardsc.transform(X),columns=lst)\n",
    "urine_standar = pd.DataFrame(standardsc.transform(urine.loc[:,lst]),columns=lst)\n",
    "\n",
    "mas.fit(X)\n",
    "X_mas = pd.DataFrame(standardsc.transform(X),columns=lst)\n",
    "urine_mas = pd.DataFrame(mas.transform(urine.loc[:,lst]),columns=lst)"
   ]
  },
  {
   "cell_type": "code",
   "execution_count": 118,
   "metadata": {},
   "outputs": [],
   "source": [
    "# ['BC','NL','PC','RC'],[0,12,16,17]\n",
    "def pred_accuracy(model,urine_x) :\n",
    "    pred = model.predict(urine_x)\n",
    "    df_pred = pd.DataFrame({'actual':urine['y'],'predict':pred})\n",
    "    \n",
    "    BC = df_pred.loc[df_pred['actual']==0]\n",
    "    NL = df_pred.loc[df_pred['actual']==12]\n",
    "    PC = df_pred.loc[df_pred['actual']==16]\n",
    "    RC = df_pred.loc[df_pred['actual']==17]\n",
    "    \n",
    "    print('BC accuracy')\n",
    "    print('BC : {0:.4f} NL : {1:.4f} PC : {2:.4f} RC : {3:.4f}'.format((BC['predict']==0).sum() / len(BC),(BC['predict']==12).sum() / len(BC),\n",
    "                                                                          (BC['predict']==16).sum() / len(BC),(BC['predict']==17).sum() / len(BC)))\n",
    "    print('\\nNL accuracy')\n",
    "    print('BC : {0:.4f} NL : {1:.4f} PC : {2:.4f} RC : {3:.4f}'.format((NL['predict']==0).sum() / len(NL),(NL['predict']==12).sum() / len(NL),\n",
    "                                                                      (NL['predict']==16).sum() / len(NL),(NL['predict']==17).sum() / len(NL)))\n",
    "    print('\\nPC accuracy')\n",
    "    print('BC : {0:.4f} NL : {1:.4f} PC : {2:.4f} RC : {3:.4f}'.format((PC['predict']==0).sum() / len(PC),(PC['predict']==12).sum() / len(PC),\n",
    "                                                                      (PC['predict']==16).sum() / len(PC),(PC['predict']==17).sum() / len(PC)))\n",
    "    print('\\nRC accuracy')\n",
    "    print('BC : {0:.4f} NL : {1:.4f} PC : {2:.4f} RC : {3:.4f}'.format((RC['predict']==0).sum() / len(RC),(RC['predict']==12).sum() / len(RC),\n",
    "                                                                      (RC['predict']==16).sum() / len(RC),(RC['predict']==17).sum() / len(RC)))"
   ]
  },
  {
   "cell_type": "code",
   "execution_count": 119,
   "metadata": {},
   "outputs": [
    {
     "name": "stdout",
     "output_type": "stream",
     "text": [
      "BC accuracy\n",
      "BC : 0.2381 NL : 0.0952 PC : 0.0000 RC : 0.0476\n",
      "\n",
      "NL accuracy\n",
      "BC : 0.1071 NL : 0.2143 PC : 0.0714 RC : 0.1786\n",
      "\n",
      "PC accuracy\n",
      "BC : 0.0870 NL : 0.1304 PC : 0.0435 RC : 0.1739\n",
      "\n",
      "RC accuracy\n",
      "BC : 0.0435 NL : 0.4348 PC : 0.0000 RC : 0.2174\n"
     ]
    }
   ],
   "source": [
    "pred_accuracy(rf,urine.loc[:,lst])"
   ]
  },
  {
   "cell_type": "markdown",
   "metadata": {},
   "source": [
    "# Random Forest"
   ]
  },
  {
   "cell_type": "code",
   "execution_count": 93,
   "metadata": {},
   "outputs": [
    {
     "name": "stdout",
     "output_type": "stream",
     "text": [
      "accuracy : 0.1897\n"
     ]
    },
    {
     "data": {
      "text/plain": [
       "array([ 0,  1,  3,  6,  8,  9, 12, 13, 16, 17, 19, 20, 21])"
      ]
     },
     "execution_count": 93,
     "metadata": {},
     "output_type": "execute_result"
    }
   ],
   "source": [
    "from sklearn.ensemble import RandomForestClassifier\n",
    "\n",
    "rf = RandomForestClassifier(random_state = 0, n_jobs = -1, max_depth=75,n_estimators=500)\n",
    "rf.fit(X_mas,y)\n",
    "accuracy = (pred==urine.y).sum()/len(rf.predict(urine_mas))\n",
    "print('accuracy : {0:.4f}'.format(accuracy))\n",
    "np.unique(pred)"
   ]
  },
  {
   "cell_type": "code",
   "execution_count": 94,
   "metadata": {},
   "outputs": [
    {
     "name": "stdout",
     "output_type": "stream",
     "text": [
      "accuracy : 0.1897\n"
     ]
    },
    {
     "data": {
      "text/plain": [
       "array([ 0,  1,  3,  6,  8,  9, 12, 13, 16, 17, 19, 20, 21])"
      ]
     },
     "execution_count": 94,
     "metadata": {},
     "output_type": "execute_result"
    }
   ],
   "source": [
    "rf = RandomForestClassifier(random_state = 0, n_jobs = -1, max_depth=75,n_estimators=500)\n",
    "rf.fit(X,y)\n",
    "accuracy = (pred==urine.y).sum()/len(rf.predict(urine.loc[:,lst]))\n",
    "print('accuracy : {0:.4f}'.format(accuracy))\n",
    "np.unique(pred)"
   ]
  },
  {
   "cell_type": "code",
   "execution_count": 187,
   "metadata": {},
   "outputs": [
    {
     "data": {
      "text/html": [
       "<div>\n",
       "<style scoped>\n",
       "    .dataframe tbody tr th:only-of-type {\n",
       "        vertical-align: middle;\n",
       "    }\n",
       "\n",
       "    .dataframe tbody tr th {\n",
       "        vertical-align: top;\n",
       "    }\n",
       "\n",
       "    .dataframe thead th {\n",
       "        text-align: right;\n",
       "    }\n",
       "</style>\n",
       "<table border=\"1\" class=\"dataframe\">\n",
       "  <thead>\n",
       "    <tr style=\"text-align: right;\">\n",
       "      <th></th>\n",
       "      <th>actual</th>\n",
       "      <th>class</th>\n",
       "      <th>prob</th>\n",
       "    </tr>\n",
       "  </thead>\n",
       "  <tbody>\n",
       "    <tr>\n",
       "      <th>0</th>\n",
       "      <td>BLCA</td>\n",
       "      <td>[BLCA, BRCA, STAD, LUAD, HNSC]</td>\n",
       "      <td>[BLCA, BRCA, STAD, LUAD, HNSC]</td>\n",
       "    </tr>\n",
       "    <tr>\n",
       "      <th>1</th>\n",
       "      <td>BLCA</td>\n",
       "      <td>[BLCA, SKCM, PRAD, STAD, BRCA]</td>\n",
       "      <td>[BLCA, SKCM, PRAD, STAD, BRCA]</td>\n",
       "    </tr>\n",
       "    <tr>\n",
       "      <th>2</th>\n",
       "      <td>BLCA</td>\n",
       "      <td>[Normal, UCEC, LGG, PRAD, THCA]</td>\n",
       "      <td>[Normal, UCEC, LGG, PRAD, THCA]</td>\n",
       "    </tr>\n",
       "    <tr>\n",
       "      <th>3</th>\n",
       "      <td>BLCA</td>\n",
       "      <td>[Normal, UCEC, BRCA, THCA, PRAD]</td>\n",
       "      <td>[Normal, UCEC, BRCA, THCA, PRAD]</td>\n",
       "    </tr>\n",
       "    <tr>\n",
       "      <th>4</th>\n",
       "      <td>BLCA</td>\n",
       "      <td>[RC, Normal, BRCA, LGG, LUAD]</td>\n",
       "      <td>[RC, Normal, BRCA, LGG, LUAD]</td>\n",
       "    </tr>\n",
       "  </tbody>\n",
       "</table>\n",
       "</div>"
      ],
      "text/plain": [
       "  actual                             class                              prob\n",
       "0   BLCA    [BLCA, BRCA, STAD, LUAD, HNSC]    [BLCA, BRCA, STAD, LUAD, HNSC]\n",
       "1   BLCA    [BLCA, SKCM, PRAD, STAD, BRCA]    [BLCA, SKCM, PRAD, STAD, BRCA]\n",
       "2   BLCA   [Normal, UCEC, LGG, PRAD, THCA]   [Normal, UCEC, LGG, PRAD, THCA]\n",
       "3   BLCA  [Normal, UCEC, BRCA, THCA, PRAD]  [Normal, UCEC, BRCA, THCA, PRAD]\n",
       "4   BLCA     [RC, Normal, BRCA, LGG, LUAD]     [RC, Normal, BRCA, LGG, LUAD]"
      ]
     },
     "execution_count": 187,
     "metadata": {},
     "output_type": "execute_result"
    }
   ],
   "source": [
    "n = 5\n",
    "df = pd.DataFrame(rf.predict_proba(urine.loc[:,lst]),columns=lb_make.classes_)\n",
    "df['class'] = df.apply(lambda x: list(x.sort_values(ascending=False)[:n].index), axis=1)\n",
    "df['prob'] = df.drop('class',axis=1).apply(lambda x: list(x.sort_values(ascending=False)[:5]), axis=1)\n",
    "\n",
    "pred_df = pd.DataFrame({'actual':urine.y, 'class':df['class'], 'prob':df['class']})\n",
    "pred_df.head()"
   ]
  },
  {
   "cell_type": "code",
   "execution_count": 193,
   "metadata": {},
   "outputs": [],
   "source": [
    "def calculate_acc(df) :\n",
    "    if df['actual'] in df['class'] :\n",
    "        return 1\n",
    "    else : return 0\n",
    "\n",
    "pred_df['accuracy'] = pred_df.apply(calculate_acc, axis=1)"
   ]
  },
  {
   "cell_type": "code",
   "execution_count": 199,
   "metadata": {},
   "outputs": [
    {
     "data": {
      "text/plain": [
       "0.5086206896551724"
      ]
     },
     "execution_count": 199,
     "metadata": {},
     "output_type": "execute_result"
    }
   ],
   "source": [
    "(pred_df['accuracy']==1).sum() / len(pred_df)"
   ]
  },
  {
   "cell_type": "markdown",
   "metadata": {},
   "source": [
    "# Logistic"
   ]
  },
  {
   "cell_type": "code",
   "execution_count": 6,
   "metadata": {},
   "outputs": [],
   "source": [
    "from sklearn.pipeline import Pipeline\n",
    "from sklearn.preprocessing import StandardScaler,MinMaxScaler,MaxAbsScaler\n",
    "from sklearn.linear_model import LogisticRegression\n",
    "\n",
    "standardsc = StandardScaler()\n",
    "mms = MinMaxScaler()\n",
    "mas = MaxAbsScaler()\n",
    "\n",
    "lr = LogisticRegression()"
   ]
  },
  {
   "cell_type": "code",
   "execution_count": null,
   "metadata": {},
   "outputs": [
    {
     "name": "stdout",
     "output_type": "stream",
     "text": [
      "0 번째 accuracy non_scale : 0.8048% StandardScale : 0.7896% MinMax : 0.5000% MaxAbs : 0.7944%\n",
      "1 번째 accuracy non_scale : 0.7990% StandardScale : 0.7821% MinMax : 0.4958% MaxAbs : 0.7886%\n",
      "2 번째 accuracy non_scale : 0.7999% StandardScale : 0.7801% MinMax : 0.4975% MaxAbs : 0.7929%\n",
      "3 번째 accuracy non_scale : 0.8035% StandardScale : 0.7786% MinMax : 0.4978% MaxAbs : 0.7876%\n"
     ]
    }
   ],
   "source": [
    "model_pipeline(lr)"
   ]
  },
  {
   "cell_type": "code",
   "execution_count": 7,
   "metadata": {},
   "outputs": [
    {
     "name": "stdout",
     "output_type": "stream",
     "text": [
      "sec :  108.8355324268341\n"
     ]
    }
   ],
   "source": [
    "from sklearn.linear_model import LogisticRegression\n",
    "start_time = time.time()\n",
    "lr = LogisticRegression(n_jobs=-1)\n",
    "lr.fit(X,y)\n",
    "print('sec : ',time.time()-start_time) # 2 minutes"
   ]
  },
  {
   "cell_type": "code",
   "execution_count": 8,
   "metadata": {},
   "outputs": [
    {
     "name": "stdout",
     "output_type": "stream",
     "text": [
      "Logistic accuracy : 0.3253\n"
     ]
    }
   ],
   "source": [
    "pred = lr.predict(urine.drop('y', axis = 1))\n",
    "accuracy = accuracy_score(urine['y'],pred)\n",
    "print('Logistic accuracy : {0:.4f}'.format(accuracy))"
   ]
  },
  {
   "cell_type": "code",
   "execution_count": 9,
   "metadata": {},
   "outputs": [
    {
     "name": "stdout",
     "output_type": "stream",
     "text": [
      "BC accuracy : 0.1190\n",
      "Normal accuracy : 1.0000\n",
      "PC accuracy : 0.0500\n"
     ]
    }
   ],
   "source": [
    "pred_accuracy(lr)"
   ]
  },
  {
   "cell_type": "code",
   "execution_count": 11,
   "metadata": {},
   "outputs": [],
   "source": [
    "pred = lr.predict(urine.drop('y', axis = 1))\n",
    "df_pred = pd.DataFrame({'actual':urine['y'],'predict':pred})\n"
   ]
  },
  {
   "cell_type": "code",
   "execution_count": 23,
   "metadata": {},
   "outputs": [
    {
     "data": {
      "text/plain": [
       "15    0.309524\n",
       "0     0.119048\n",
       "5     0.095238\n",
       "27    0.071429\n",
       "19    0.071429\n",
       "13    0.071429\n",
       "2     0.071429\n",
       "25    0.047619\n",
       "11    0.047619\n",
       "1     0.047619\n",
       "14    0.023810\n",
       "10    0.023810\n",
       "Name: predict, dtype: float64"
      ]
     },
     "execution_count": 23,
     "metadata": {},
     "output_type": "execute_result"
    }
   ],
   "source": [
    "df_pred[df_pred['actual']==0].predict.value_counts()/len(df_pred[df_pred['actual']==0])"
   ]
  },
  {
   "cell_type": "code",
   "execution_count": 17,
   "metadata": {},
   "outputs": [
    {
     "data": {
      "text/plain": [
       "15    21\n",
       "Name: predict, dtype: int64"
      ]
     },
     "execution_count": 17,
     "metadata": {},
     "output_type": "execute_result"
    }
   ],
   "source": [
    "df_pred[df_pred['actual']==15].predict.value_counts()"
   ]
  },
  {
   "cell_type": "code",
   "execution_count": 24,
   "metadata": {},
   "outputs": [
    {
     "data": {
      "text/plain": [
       "15    0.60\n",
       "5     0.10\n",
       "3     0.10\n",
       "27    0.05\n",
       "19    0.05\n",
       "11    0.05\n",
       "1     0.05\n",
       "Name: predict, dtype: float64"
      ]
     },
     "execution_count": 24,
     "metadata": {},
     "output_type": "execute_result"
    }
   ],
   "source": [
    "df_pred[df_pred['actual']==19].predict.value_counts()/len(df_pred[df_pred['actual']==19])"
   ]
  },
  {
   "cell_type": "markdown",
   "metadata": {},
   "source": [
    "# LightGBM"
   ]
  },
  {
   "cell_type": "code",
   "execution_count": 15,
   "metadata": {},
   "outputs": [
    {
     "name": "stdout",
     "output_type": "stream",
     "text": [
      "sec :  236.48080492019653\n"
     ]
    }
   ],
   "source": [
    "from lightgbm import LGBMClassifier\n",
    "start_time = time.time()\n",
    "\n",
    "lgbm_clf = LGBMClassifier(n_estimators=200, n_jobs=-1)\n",
    "lgbm_clf.fit(X, y, eval_metric=\"logloss\", verbose=50)\n",
    "print('sec : ',time.time()-start_time) # 4 minutes"
   ]
  },
  {
   "cell_type": "code",
   "execution_count": 16,
   "metadata": {},
   "outputs": [
    {
     "name": "stdout",
     "output_type": "stream",
     "text": [
      "LightGBM accuracy : 0.3373\n"
     ]
    }
   ],
   "source": [
    "pred = lgbm_clf.predict(urine.drop('y', axis = 1))\n",
    "accuracy = accuracy_score(urine['y'], pred)\n",
    "print('LightGBM accuracy : {0:.4f}'.format(accuracy))"
   ]
  },
  {
   "cell_type": "code",
   "execution_count": 17,
   "metadata": {},
   "outputs": [
    {
     "name": "stdout",
     "output_type": "stream",
     "text": [
      "BC accuracy : 0.1667\n",
      "Normal accuracy : 1.0000\n",
      "PC accuracy : 0.0000\n"
     ]
    }
   ],
   "source": [
    "pred_accuracy(lgbm_clf)"
   ]
  },
  {
   "cell_type": "code",
   "execution_count": null,
   "metadata": {},
   "outputs": [],
   "source": []
  }
 ],
 "metadata": {
  "kernelspec": {
   "display_name": "Python 3",
   "language": "python",
   "name": "python3"
  },
  "language_info": {
   "codemirror_mode": {
    "name": "ipython",
    "version": 3
   },
   "file_extension": ".py",
   "mimetype": "text/x-python",
   "name": "python",
   "nbconvert_exporter": "python",
   "pygments_lexer": "ipython3",
   "version": "3.5.2"
  }
 },
 "nbformat": 4,
 "nbformat_minor": 2
}
