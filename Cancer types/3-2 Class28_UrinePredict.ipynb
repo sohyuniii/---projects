{
 "cells": [
  {
   "cell_type": "code",
   "execution_count": 1,
   "metadata": {},
   "outputs": [],
   "source": [
    "import warnings\n",
    "warnings.filterwarnings(\"ignore\")\n",
    "\n",
    "import numpy as np\n",
    "import pandas as pd\n",
    "import time\n",
    "from pandas import DataFrame\n",
    "from sklearn.preprocessing import scale\n",
    "from sklearn.ensemble import RandomForestClassifier\n",
    "from sklearn.model_selection import KFold\n",
    "from sklearn.metrics import confusion_matrix, classification_report, precision_score,accuracy_score\n",
    "from sklearn.model_selection import GridSearchCV"
   ]
  },
  {
   "cell_type": "code",
   "execution_count": 2,
   "metadata": {},
   "outputs": [
    {
     "name": "stdout",
     "output_type": "stream",
     "text": [
      "TCGA data shape: (20715, 788)\n"
     ]
    },
    {
     "data": {
      "text/html": [
       "<div>\n",
       "<style scoped>\n",
       "    .dataframe tbody tr th:only-of-type {\n",
       "        vertical-align: middle;\n",
       "    }\n",
       "\n",
       "    .dataframe tbody tr th {\n",
       "        vertical-align: top;\n",
       "    }\n",
       "\n",
       "    .dataframe thead th {\n",
       "        text-align: right;\n",
       "    }\n",
       "</style>\n",
       "<table border=\"1\" class=\"dataframe\">\n",
       "  <thead>\n",
       "    <tr style=\"text-align: right;\">\n",
       "      <th></th>\n",
       "      <th>cyto.10p11.1</th>\n",
       "      <th>cyto.10p11.21</th>\n",
       "      <th>cyto.10p11.22</th>\n",
       "      <th>cyto.10p11.23</th>\n",
       "      <th>cyto.10p12.1</th>\n",
       "      <th>cyto.10p12.2</th>\n",
       "      <th>cyto.10p12.31</th>\n",
       "      <th>cyto.10p12.32</th>\n",
       "      <th>cyto.10p12.33</th>\n",
       "      <th>cyto.10p13</th>\n",
       "      <th>...</th>\n",
       "      <th>cyto.9q33.1</th>\n",
       "      <th>cyto.9q33.2</th>\n",
       "      <th>cyto.9q33.3</th>\n",
       "      <th>cyto.9q34.11</th>\n",
       "      <th>cyto.9q34.12</th>\n",
       "      <th>cyto.9q34.13</th>\n",
       "      <th>cyto.9q34.2</th>\n",
       "      <th>cyto.9q34.3</th>\n",
       "      <th>y</th>\n",
       "      <th>y_encode</th>\n",
       "    </tr>\n",
       "  </thead>\n",
       "  <tbody>\n",
       "    <tr>\n",
       "      <th>0</th>\n",
       "      <td>-0.1608</td>\n",
       "      <td>0.2213</td>\n",
       "      <td>0.2213</td>\n",
       "      <td>0.2213</td>\n",
       "      <td>0.2213</td>\n",
       "      <td>0.2213</td>\n",
       "      <td>0.2213</td>\n",
       "      <td>0.2213</td>\n",
       "      <td>0.2213</td>\n",
       "      <td>0.2213</td>\n",
       "      <td>...</td>\n",
       "      <td>-0.1732</td>\n",
       "      <td>-0.1732</td>\n",
       "      <td>-0.1732</td>\n",
       "      <td>-0.1732</td>\n",
       "      <td>-0.1732</td>\n",
       "      <td>-0.1732</td>\n",
       "      <td>-0.1732</td>\n",
       "      <td>-0.1732</td>\n",
       "      <td>BLCA</td>\n",
       "      <td>0</td>\n",
       "    </tr>\n",
       "    <tr>\n",
       "      <th>1</th>\n",
       "      <td>-0.0017</td>\n",
       "      <td>-0.0017</td>\n",
       "      <td>-0.0017</td>\n",
       "      <td>-0.0017</td>\n",
       "      <td>-0.0017</td>\n",
       "      <td>-0.0017</td>\n",
       "      <td>-0.0017</td>\n",
       "      <td>-0.0017</td>\n",
       "      <td>-0.0017</td>\n",
       "      <td>-0.0017</td>\n",
       "      <td>...</td>\n",
       "      <td>0.0009</td>\n",
       "      <td>0.0009</td>\n",
       "      <td>0.0009</td>\n",
       "      <td>0.0009</td>\n",
       "      <td>0.0009</td>\n",
       "      <td>0.0009</td>\n",
       "      <td>0.0009</td>\n",
       "      <td>0.0009</td>\n",
       "      <td>Normal</td>\n",
       "      <td>15</td>\n",
       "    </tr>\n",
       "    <tr>\n",
       "      <th>2</th>\n",
       "      <td>-0.2733</td>\n",
       "      <td>0.0403</td>\n",
       "      <td>0.0403</td>\n",
       "      <td>0.0403</td>\n",
       "      <td>0.0356</td>\n",
       "      <td>0.0356</td>\n",
       "      <td>0.0356</td>\n",
       "      <td>0.0356</td>\n",
       "      <td>0.0356</td>\n",
       "      <td>0.0356</td>\n",
       "      <td>...</td>\n",
       "      <td>-0.2716</td>\n",
       "      <td>-0.2716</td>\n",
       "      <td>-0.2716</td>\n",
       "      <td>-0.3456</td>\n",
       "      <td>-0.3456</td>\n",
       "      <td>0.2685</td>\n",
       "      <td>-0.3587</td>\n",
       "      <td>-0.3587</td>\n",
       "      <td>BLCA</td>\n",
       "      <td>0</td>\n",
       "    </tr>\n",
       "  </tbody>\n",
       "</table>\n",
       "<p>3 rows × 788 columns</p>\n",
       "</div>"
      ],
      "text/plain": [
       "   cyto.10p11.1  cyto.10p11.21  cyto.10p11.22  cyto.10p11.23  cyto.10p12.1  \\\n",
       "0       -0.1608         0.2213         0.2213         0.2213        0.2213   \n",
       "1       -0.0017        -0.0017        -0.0017        -0.0017       -0.0017   \n",
       "2       -0.2733         0.0403         0.0403         0.0403        0.0356   \n",
       "\n",
       "   cyto.10p12.2  cyto.10p12.31  cyto.10p12.32  cyto.10p12.33  cyto.10p13  ...  \\\n",
       "0        0.2213         0.2213         0.2213         0.2213      0.2213  ...   \n",
       "1       -0.0017        -0.0017        -0.0017        -0.0017     -0.0017  ...   \n",
       "2        0.0356         0.0356         0.0356         0.0356      0.0356  ...   \n",
       "\n",
       "   cyto.9q33.1  cyto.9q33.2  cyto.9q33.3  cyto.9q34.11  cyto.9q34.12  \\\n",
       "0      -0.1732      -0.1732      -0.1732       -0.1732       -0.1732   \n",
       "1       0.0009       0.0009       0.0009        0.0009        0.0009   \n",
       "2      -0.2716      -0.2716      -0.2716       -0.3456       -0.3456   \n",
       "\n",
       "   cyto.9q34.13  cyto.9q34.2  cyto.9q34.3       y  y_encode  \n",
       "0       -0.1732      -0.1732      -0.1732    BLCA         0  \n",
       "1        0.0009       0.0009       0.0009  Normal        15  \n",
       "2        0.2685      -0.3587      -0.3587    BLCA         0  \n",
       "\n",
       "[3 rows x 788 columns]"
      ]
     },
     "execution_count": 2,
     "metadata": {},
     "output_type": "execute_result"
    }
   ],
   "source": [
    "tcga = pd.read_csv('TCGA_data.csv')\n",
    "tcga.drop('cancer', axis = 1, inplace = True)\n",
    "tcga = tcga.sort_index(axis=1)\n",
    "\n",
    "from sklearn.preprocessing import LabelEncoder\n",
    "lb_make = LabelEncoder()\n",
    "tcga[\"y_encode\"] = lb_make.fit_transform(tcga[\"y\"])\n",
    "print('TCGA data shape:',tcga.shape)\n",
    "tcga.head(3)"
   ]
  },
  {
   "cell_type": "code",
   "execution_count": 3,
   "metadata": {},
   "outputs": [
    {
     "name": "stdout",
     "output_type": "stream",
     "text": [
      "Urine data shape: (83, 787)\n"
     ]
    },
    {
     "data": {
      "text/html": [
       "<div>\n",
       "<style scoped>\n",
       "    .dataframe tbody tr th:only-of-type {\n",
       "        vertical-align: middle;\n",
       "    }\n",
       "\n",
       "    .dataframe tbody tr th {\n",
       "        vertical-align: top;\n",
       "    }\n",
       "\n",
       "    .dataframe thead th {\n",
       "        text-align: right;\n",
       "    }\n",
       "</style>\n",
       "<table border=\"1\" class=\"dataframe\">\n",
       "  <thead>\n",
       "    <tr style=\"text-align: right;\">\n",
       "      <th></th>\n",
       "      <th>cyto.10p11.1</th>\n",
       "      <th>cyto.10p11.21</th>\n",
       "      <th>cyto.10p11.22</th>\n",
       "      <th>cyto.10p11.23</th>\n",
       "      <th>cyto.10p12.1</th>\n",
       "      <th>cyto.10p12.2</th>\n",
       "      <th>cyto.10p12.31</th>\n",
       "      <th>cyto.10p12.32</th>\n",
       "      <th>cyto.10p12.33</th>\n",
       "      <th>cyto.10p13</th>\n",
       "      <th>...</th>\n",
       "      <th>cyto.9q32</th>\n",
       "      <th>cyto.9q33.1</th>\n",
       "      <th>cyto.9q33.2</th>\n",
       "      <th>cyto.9q33.3</th>\n",
       "      <th>cyto.9q34.11</th>\n",
       "      <th>cyto.9q34.12</th>\n",
       "      <th>cyto.9q34.13</th>\n",
       "      <th>cyto.9q34.2</th>\n",
       "      <th>cyto.9q34.3</th>\n",
       "      <th>y</th>\n",
       "    </tr>\n",
       "  </thead>\n",
       "  <tbody>\n",
       "    <tr>\n",
       "      <th>0</th>\n",
       "      <td>0.04760</td>\n",
       "      <td>0.024783</td>\n",
       "      <td>0.022472</td>\n",
       "      <td>0.072480</td>\n",
       "      <td>0.015994</td>\n",
       "      <td>-0.021031</td>\n",
       "      <td>0.040992</td>\n",
       "      <td>0.045250</td>\n",
       "      <td>-0.095944</td>\n",
       "      <td>-0.008191</td>\n",
       "      <td>...</td>\n",
       "      <td>-0.179049</td>\n",
       "      <td>-0.036678</td>\n",
       "      <td>-0.062170</td>\n",
       "      <td>-0.090680</td>\n",
       "      <td>-0.100512</td>\n",
       "      <td>-0.334829</td>\n",
       "      <td>-0.111079</td>\n",
       "      <td>-0.110344</td>\n",
       "      <td>-0.125893</td>\n",
       "      <td>0</td>\n",
       "    </tr>\n",
       "    <tr>\n",
       "      <th>1</th>\n",
       "      <td>-0.16784</td>\n",
       "      <td>-0.009222</td>\n",
       "      <td>0.001799</td>\n",
       "      <td>0.010304</td>\n",
       "      <td>-0.001134</td>\n",
       "      <td>-0.147352</td>\n",
       "      <td>-0.041152</td>\n",
       "      <td>-0.044125</td>\n",
       "      <td>-0.110519</td>\n",
       "      <td>0.031379</td>\n",
       "      <td>...</td>\n",
       "      <td>-0.051297</td>\n",
       "      <td>-0.214000</td>\n",
       "      <td>-0.098335</td>\n",
       "      <td>0.086731</td>\n",
       "      <td>0.056100</td>\n",
       "      <td>0.110971</td>\n",
       "      <td>0.076008</td>\n",
       "      <td>-0.007611</td>\n",
       "      <td>-0.061152</td>\n",
       "      <td>0</td>\n",
       "    </tr>\n",
       "    <tr>\n",
       "      <th>2</th>\n",
       "      <td>0.17316</td>\n",
       "      <td>0.027507</td>\n",
       "      <td>0.067975</td>\n",
       "      <td>0.046510</td>\n",
       "      <td>0.060755</td>\n",
       "      <td>0.080742</td>\n",
       "      <td>0.049664</td>\n",
       "      <td>0.087875</td>\n",
       "      <td>0.218056</td>\n",
       "      <td>0.311060</td>\n",
       "      <td>...</td>\n",
       "      <td>-0.096214</td>\n",
       "      <td>-0.037703</td>\n",
       "      <td>-0.088706</td>\n",
       "      <td>-0.100768</td>\n",
       "      <td>-0.109234</td>\n",
       "      <td>-0.082571</td>\n",
       "      <td>-0.102937</td>\n",
       "      <td>-0.131600</td>\n",
       "      <td>-0.076170</td>\n",
       "      <td>0</td>\n",
       "    </tr>\n",
       "  </tbody>\n",
       "</table>\n",
       "<p>3 rows × 787 columns</p>\n",
       "</div>"
      ],
      "text/plain": [
       "   cyto.10p11.1  cyto.10p11.21  cyto.10p11.22  cyto.10p11.23  cyto.10p12.1  \\\n",
       "0       0.04760       0.024783       0.022472       0.072480      0.015994   \n",
       "1      -0.16784      -0.009222       0.001799       0.010304     -0.001134   \n",
       "2       0.17316       0.027507       0.067975       0.046510      0.060755   \n",
       "\n",
       "   cyto.10p12.2  cyto.10p12.31  cyto.10p12.32  cyto.10p12.33  cyto.10p13  ...  \\\n",
       "0     -0.021031       0.040992       0.045250      -0.095944   -0.008191  ...   \n",
       "1     -0.147352      -0.041152      -0.044125      -0.110519    0.031379  ...   \n",
       "2      0.080742       0.049664       0.087875       0.218056    0.311060  ...   \n",
       "\n",
       "   cyto.9q32  cyto.9q33.1  cyto.9q33.2  cyto.9q33.3  cyto.9q34.11  \\\n",
       "0  -0.179049    -0.036678    -0.062170    -0.090680     -0.100512   \n",
       "1  -0.051297    -0.214000    -0.098335     0.086731      0.056100   \n",
       "2  -0.096214    -0.037703    -0.088706    -0.100768     -0.109234   \n",
       "\n",
       "   cyto.9q34.12  cyto.9q34.13  cyto.9q34.2  cyto.9q34.3  y  \n",
       "0     -0.334829     -0.111079    -0.110344    -0.125893  0  \n",
       "1      0.110971      0.076008    -0.007611    -0.061152  0  \n",
       "2     -0.082571     -0.102937    -0.131600    -0.076170  0  \n",
       "\n",
       "[3 rows x 787 columns]"
      ]
     },
     "execution_count": 3,
     "metadata": {},
     "output_type": "execute_result"
    }
   ],
   "source": [
    "urine = pd.read_csv('urine_k15_0419.csv')\n",
    "urine.drop(['Unnamed: 0','X'],axis=1,inplace=True)\n",
    "urine = urine.sort_index(axis=1)\n",
    "urine = urine.loc[urine['y']!='RCC_100k']\n",
    "urine = urine.replace(['BLCA_15k','NL_15k','PRAD_15k'],[ 0,15,19 ])\n",
    "urine = urine.reset_index(drop = True)\n",
    "print('Urine data shape:',urine.shape)\n",
    "urine.head(3)"
   ]
  },
  {
   "cell_type": "code",
   "execution_count": 4,
   "metadata": {
    "scrolled": true
   },
   "outputs": [
    {
     "data": {
      "text/plain": [
       "0     42\n",
       "15    21\n",
       "19    20\n",
       "Name: y, dtype: int64"
      ]
     },
     "execution_count": 4,
     "metadata": {},
     "output_type": "execute_result"
    }
   ],
   "source": [
    "urine.y.value_counts()"
   ]
  },
  {
   "cell_type": "code",
   "execution_count": 4,
   "metadata": {},
   "outputs": [],
   "source": [
    "X = tcga.drop(['y','y_encode'], axis=1)\n",
    "y = tcga['y_encode']"
   ]
  },
  {
   "cell_type": "code",
   "execution_count": 9,
   "metadata": {},
   "outputs": [],
   "source": [
    "from sklearn.model_selection import StratifiedKFold\n",
    "\n",
    "skf = StratifiedKFold(n_splits = 5, random_state=0, shuffle = True)"
   ]
  },
  {
   "cell_type": "code",
   "execution_count": 25,
   "metadata": {},
   "outputs": [],
   "source": [
    "def accuracy(model) :\n",
    "    pred = model.predict(urine.drop('y', axis = 1))\n",
    "    df_pred = pd.DataFrame({'actual':urine['y'],'predict':pred})\n",
    "    \n",
    "    BC_pred = df_pred.loc[df_pred['predict']==0]\n",
    "    NL_pred = df_pred.loc[df_pred['predict']==15]\n",
    "    PC_pred = df_pred.loc[df_pred['predict']==19]\n",
    "    \n",
    "    print('BC accuracy : {0:.4f}'.format(BC_pred.shape[0]/42))\n",
    "    print('Normal accuracy : {0:.4f}'.format(NL_pred.shape[0]/21))\n",
    "    print('PC accuracy : {0:.4f}'.format(PC_pred.shape[0]/20))"
   ]
  },
  {
   "cell_type": "markdown",
   "metadata": {},
   "source": [
    "# Logistic"
   ]
  },
  {
   "cell_type": "code",
   "execution_count": 11,
   "metadata": {},
   "outputs": [],
   "source": [
    "from sklearn.pipeline import Pipeline\n",
    "from sklearn.preprocessing import StandardScaler,MinMaxScaler,MaxAbsScaler\n",
    "from sklearn.linear_model import LogisticRegression\n",
    "\n",
    "standardsc = StandardScaler()\n",
    "mms = MinMaxScaler()\n",
    "mas = MaxAbsScaler()\n",
    "\n",
    "lr = LogisticRegression()"
   ]
  },
  {
   "cell_type": "code",
   "execution_count": 12,
   "metadata": {},
   "outputs": [],
   "source": [
    "def model_pipeline(model) :\n",
    "    pipeline1 = Pipeline([('StandardScaler', standardsc), ('Logistic', model)])\n",
    "    pipeline2 = Pipeline([('MinMaxScaler', mms), ('Logistic', model)])\n",
    "    pipeline3 = Pipeline([('MaxAbsScaler', mas), ('Logistic', model)])\n",
    "\n",
    "    cv_acc = []\n",
    "    pip1_acc = []\n",
    "    pip2_acc = []\n",
    "    pip3_acc = []\n",
    "\n",
    "    for i, (tr_ind, te_ind) in enumerate(skf.split(X,y)) :\n",
    "\n",
    "        X_train, X_test = X.iloc[tr_ind], X.iloc[te_ind]\n",
    "        y_train, y_test = y[tr_ind], y[te_ind]\n",
    "\n",
    "        model.fit(X_train, y_train)\n",
    "        pipeline1.fit(X_train, y_train)\n",
    "        pipeline2.fit(X_train, y_train)\n",
    "        pipeline3.fit(X_train, y_train)\n",
    "\n",
    "        cv_acc.append(accuracy_score(y[te_ind], model.predict(X_test)))\n",
    "        pip1_acc.append(accuracy_score(y[te_ind], pipeline1.predict(X_test)))\n",
    "        pip2_acc.append(accuracy_score(y[te_ind], pipeline2.predict(X_test)))\n",
    "        pip3_acc.append(accuracy_score(y[te_ind], pipeline3.predict(X_test)))\n",
    "\n",
    "        print('{0} 번째 accuracy non_scale : {1:.4f}% StandardScale : {2:.4f}% MinMax : {3:.4f}% MaxAbs : {4:.4f}%'.format(i,cv_acc[i],pip1_acc[i],pip2_acc[i],pip3_acc[i]))\n",
    "\n",
    "    print('\\n mean accuracy non_scale : {0:.4f}% StandardScale : {1:.4f}% MinMax : {2:.4f}% MaxAbs : {3:.4f}%'.format(np.mean(cv_acc),np.mean(pip1_acc),np.mean(pip2_acc),np.mean(pip3_acc)))"
   ]
  },
  {
   "cell_type": "code",
   "execution_count": null,
   "metadata": {},
   "outputs": [
    {
     "name": "stdout",
     "output_type": "stream",
     "text": [
      "0 번째 accuracy non_scale : 0.8048% StandardScale : 0.7896% MinMax : 0.5000% MaxAbs : 0.7944%\n",
      "1 번째 accuracy non_scale : 0.7990% StandardScale : 0.7821% MinMax : 0.4958% MaxAbs : 0.7886%\n",
      "2 번째 accuracy non_scale : 0.7999% StandardScale : 0.7801% MinMax : 0.4975% MaxAbs : 0.7929%\n",
      "3 번째 accuracy non_scale : 0.8035% StandardScale : 0.7786% MinMax : 0.4978% MaxAbs : 0.7876%\n"
     ]
    }
   ],
   "source": [
    "model_pipeline(lr)"
   ]
  },
  {
   "cell_type": "code",
   "execution_count": 15,
   "metadata": {},
   "outputs": [
    {
     "name": "stdout",
     "output_type": "stream",
     "text": [
      "sec :  109.51327610015869\n"
     ]
    }
   ],
   "source": [
    "from sklearn.linear_model import LogisticRegression\n",
    "start_time = time.time()\n",
    "lr = LogisticRegression(n_jobs=-1)\n",
    "lr.fit(X,y)\n",
    "print('sec : ',time.time()-start_time) # 2 minutes"
   ]
  },
  {
   "cell_type": "code",
   "execution_count": 16,
   "metadata": {},
   "outputs": [
    {
     "name": "stdout",
     "output_type": "stream",
     "text": [
      "Logistic accuracy : 0.3253\n"
     ]
    }
   ],
   "source": [
    "pred = lr.predict(urine.drop('y', axis = 1))\n",
    "accuracy = accuracy_score(urine['y'],pred)\n",
    "print('Logistic accuracy : {0:.4f}'.format(accuracy))"
   ]
  },
  {
   "cell_type": "code",
   "execution_count": 23,
   "metadata": {},
   "outputs": [
    {
     "data": {
      "text/html": [
       "<div>\n",
       "<style scoped>\n",
       "    .dataframe tbody tr th:only-of-type {\n",
       "        vertical-align: middle;\n",
       "    }\n",
       "\n",
       "    .dataframe tbody tr th {\n",
       "        vertical-align: top;\n",
       "    }\n",
       "\n",
       "    .dataframe thead th {\n",
       "        text-align: right;\n",
       "    }\n",
       "</style>\n",
       "<table border=\"1\" class=\"dataframe\">\n",
       "  <thead>\n",
       "    <tr style=\"text-align: right;\">\n",
       "      <th></th>\n",
       "      <th>actual</th>\n",
       "      <th>predict</th>\n",
       "    </tr>\n",
       "  </thead>\n",
       "  <tbody>\n",
       "    <tr>\n",
       "      <th>0</th>\n",
       "      <td>0</td>\n",
       "      <td>13</td>\n",
       "    </tr>\n",
       "    <tr>\n",
       "      <th>1</th>\n",
       "      <td>0</td>\n",
       "      <td>2</td>\n",
       "    </tr>\n",
       "    <tr>\n",
       "      <th>2</th>\n",
       "      <td>0</td>\n",
       "      <td>19</td>\n",
       "    </tr>\n",
       "  </tbody>\n",
       "</table>\n",
       "</div>"
      ],
      "text/plain": [
       "   actual  predict\n",
       "0       0       13\n",
       "1       0        2\n",
       "2       0       19"
      ]
     },
     "execution_count": 23,
     "metadata": {},
     "output_type": "execute_result"
    }
   ],
   "source": [
    "pd.DataFrame({'actual':urine['y'],'predict':pred}).head(3)"
   ]
  },
  {
   "cell_type": "code",
   "execution_count": 26,
   "metadata": {},
   "outputs": [
    {
     "name": "stdout",
     "output_type": "stream",
     "text": [
      "BC accuracy : 0.1190\n",
      "Normal accuracy : 2.1905\n",
      "PC accuracy : 0.2000\n"
     ]
    }
   ],
   "source": [
    "accuracy(lr)"
   ]
  },
  {
   "cell_type": "markdown",
   "metadata": {},
   "source": [
    "# LightGBM"
   ]
  },
  {
   "cell_type": "code",
   "execution_count": 10,
   "metadata": {},
   "outputs": [
    {
     "name": "stdout",
     "output_type": "stream",
     "text": [
      "244.83253026008606\n"
     ]
    }
   ],
   "source": [
    "from lightgbm import LGBMClassifier\n",
    "start_time = time.time()\n",
    "\n",
    "lgbm_clf = LGBMClassifier(n_estimators=200, n_jobs=-1)\n",
    "lgbm_clf.fit(X, y, eval_metric=\"logloss\", verbose=50)\n",
    "print(time.time()-start_time) # 4 minutes"
   ]
  },
  {
   "cell_type": "code",
   "execution_count": 11,
   "metadata": {},
   "outputs": [
    {
     "name": "stdout",
     "output_type": "stream",
     "text": [
      "LightGBM accuracy : 0.3373\n"
     ]
    }
   ],
   "source": [
    "pred = lgbm_clf.predict(urine.drop('y', axis = 1))\n",
    "accuracy = accuracy_score(urine['y'], pred)\n",
    "print('LightGBM accuracy : {0:.4f}'.format(accuracy))"
   ]
  },
  {
   "cell_type": "code",
   "execution_count": 27,
   "metadata": {},
   "outputs": [
    {
     "name": "stdout",
     "output_type": "stream",
     "text": [
      "BC accuracy : 0.1667\n",
      "Normal accuracy : 1.8571\n",
      "PC accuracy : 0.0000\n"
     ]
    }
   ],
   "source": [
    "accuracy(lgbm_clf)"
   ]
  },
  {
   "cell_type": "code",
   "execution_count": null,
   "metadata": {},
   "outputs": [],
   "source": []
  }
 ],
 "metadata": {
  "kernelspec": {
   "display_name": "Python 3",
   "language": "python",
   "name": "python3"
  },
  "language_info": {
   "codemirror_mode": {
    "name": "ipython",
    "version": 3
   },
   "file_extension": ".py",
   "mimetype": "text/x-python",
   "name": "python",
   "nbconvert_exporter": "python",
   "pygments_lexer": "ipython3",
   "version": "3.5.2"
  }
 },
 "nbformat": 4,
 "nbformat_minor": 2
}
