{
 "cells": [
  {
   "cell_type": "code",
   "execution_count": 2,
   "metadata": {},
   "outputs": [],
   "source": [
    "import warnings\n",
    "warnings.filterwarnings(\"ignore\")\n",
    "\n",
    "import numpy as np\n",
    "import pandas as pd\n",
    "from sklearn.preprocessing import scale, robust_scale, minmax_scale, maxabs_scale\n",
    "from sklearn.ensemble import RandomForestClassifier\n",
    "from sklearn.metrics import accuracy_score\n",
    "from sklearn.model_selection import KFold\n",
    "from sklearn.model_selection import train_test_split"
   ]
  },
  {
   "cell_type": "markdown",
   "metadata": {},
   "source": [
    "## TCGA data"
   ]
  },
  {
   "cell_type": "code",
   "execution_count": 3,
   "metadata": {},
   "outputs": [],
   "source": [
    "TCGA = pd.read_csv('TCGA_data.csv')\n",
    "TCGA = TCGA.loc[(TCGA.cancer == 'BLCA') | (TCGA.cancer == 'PAAD')| (TCGA.cancer == 'KICH')| (TCGA.cancer == 'KIRC')| (TCGA.cancer == 'KIRP')]\n",
    "TCGA.loc[(TCGA.cancer == 'BLCA') & (TCGA.y != 'Normal'),'y'] = 'BC'\n",
    "TCGA.loc[(TCGA.cancer == 'PAAD') & (TCGA.y != 'Normal'),'y'] = 'PC'\n",
    "TCGA.loc[(TCGA.cancer == 'KICH') & (TCGA.y != 'Normal'),'y'] = 'RC'\n",
    "TCGA.loc[(TCGA.cancer == 'KIRC') & (TCGA.y != 'Normal'),'y'] = 'RC'\n",
    "TCGA.loc[(TCGA.cancer == 'KIRP') & (TCGA.y != 'Normal'),'y'] = 'RC'"
   ]
  },
  {
   "cell_type": "markdown",
   "metadata": {},
   "source": [
    "## urine data"
   ]
  },
  {
   "cell_type": "code",
   "execution_count": 7,
   "metadata": {},
   "outputs": [
    {
     "data": {
      "text/plain": [
       "0"
      ]
     },
     "execution_count": 7,
     "metadata": {},
     "output_type": "execute_result"
    }
   ],
   "source": [
    "BC_100 = pd.read_csv('BC_32ea_k100_cyto.csv')\n",
    "Normal_100 = pd.read_csv('Normal_21ea_k100_cyto.csv')\n",
    "PC_100 = pd.read_csv('PC_20ea_k100_cyto.csv')\n",
    "RC_100 = pd.read_csv('RC_20ea_k100_cyto.csv')\n",
    "\n",
    "#drop person id\n",
    "BC_100.drop(['Unnamed: 0','id'], axis = 1, inplace = True)\n",
    "Normal_100.drop(['Unnamed: 0','id'], axis = 1, inplace = True)\n",
    "PC_100.drop(['Unnamed: 0','id'], axis = 1, inplace = True)\n",
    "RC_100.drop(['Unnamed: 0','id'], axis = 1, inplace = True)\n",
    "\n",
    "BC_100['cancer'] = 'BC'\n",
    "Normal_100['cancer'] = 'normal'\n",
    "PC_100['cancer'] = 'PC'\n",
    "RC_100['cancer'] = \"RC\"\n",
    "\n",
    "K100 = pd.concat([BC_100,Normal_100,PC_100,RC_100], axis = 0)\n",
    "\n",
    "del [BC_100,Normal_100,PC_100,RC_100]\n",
    "\n",
    "K100 = K100.dropna(axis=0)\n",
    "K100.isna().sum().sum()"
   ]
  },
  {
   "cell_type": "markdown",
   "metadata": {},
   "source": [
    "## 공통 col 추출"
   ]
  },
  {
   "cell_type": "code",
   "execution_count": 8,
   "metadata": {},
   "outputs": [],
   "source": [
    "a = list(TCGA.columns)\n",
    "b = list(K100.columns)\n",
    "\n",
    "new_col = []\n",
    "for col in a :\n",
    "    for col2 in b :\n",
    "        if col==col2 :\n",
    "            new_col.append(col)       "
   ]
  },
  {
   "cell_type": "code",
   "execution_count": 9,
   "metadata": {},
   "outputs": [],
   "source": [
    "TCGA_new = TCGA[new_col]\n",
    "K100_new = K100[new_col]"
   ]
  },
  {
   "cell_type": "markdown",
   "metadata": {},
   "source": [
    "## 1. scale : 기본 스케일. 평균과 표준편차 사용"
   ]
  },
  {
   "cell_type": "code",
   "execution_count": 19,
   "metadata": {},
   "outputs": [
    {
     "name": "stdout",
     "output_type": "stream",
     "text": [
      "accuracy score: 0.909\n"
     ]
    }
   ],
   "source": [
    "X = TCGA_new.drop(['cancer'], axis=1)\n",
    "X = scale(X)\n",
    "Y = TCGA['y']\n",
    "X_train, X_test, y_train, y_test = train_test_split(X,Y, test_size=0.3)\n",
    "\n",
    "rf = RandomForestClassifier()\n",
    "rf.fit(X_train,y_train)\n",
    "\n",
    "predicted = rf.predict(X_test)\n",
    "accuracy = accuracy_score(y_test, predicted)\n",
    "\n",
    "print(f'accuracy score: {accuracy:.3}')"
   ]
  },
  {
   "cell_type": "code",
   "execution_count": 20,
   "metadata": {},
   "outputs": [
    {
     "name": "stdout",
     "output_type": "stream",
     "text": [
      "accuracy score: 0.352\n"
     ]
    }
   ],
   "source": [
    "X = K100_new.drop(['cancer'], axis=1)\n",
    "X = scale(X)\n",
    "Y = K100['cancer']\n",
    "\n",
    "predicted = rf.predict(X)\n",
    "accuracy = accuracy_score(Y, predicted)\n",
    "\n",
    "print(f'accuracy score: {accuracy:.3}')"
   ]
  },
  {
   "cell_type": "markdown",
   "metadata": {},
   "source": [
    "## 2. robust_scale : 중앙값과 IQR사용. 아웃라이어의 영향을 최소화"
   ]
  },
  {
   "cell_type": "code",
   "execution_count": 21,
   "metadata": {},
   "outputs": [
    {
     "name": "stdout",
     "output_type": "stream",
     "text": [
      "accuracy score: 0.911\n"
     ]
    }
   ],
   "source": [
    "X = TCGA_new.drop(['cancer'], axis=1)\n",
    "X = robust_scale(X)\n",
    "Y = TCGA['y']\n",
    "X_train, X_test, y_train, y_test = train_test_split(X,Y, test_size=0.3)\n",
    "\n",
    "rf = RandomForestClassifier()\n",
    "rf.fit(X_train,y_train)\n",
    "\n",
    "predicted = rf.predict(X_test)\n",
    "accuracy = accuracy_score(y_test, predicted)\n",
    "\n",
    "print(f'accuracy score: {accuracy:.3}')"
   ]
  },
  {
   "cell_type": "code",
   "execution_count": 22,
   "metadata": {},
   "outputs": [
    {
     "name": "stdout",
     "output_type": "stream",
     "text": [
      "accuracy score: 0.227\n"
     ]
    }
   ],
   "source": [
    "X = K100_new.drop(['cancer'], axis=1)\n",
    "X = robust_scale(X)\n",
    "Y = K100['cancer']\n",
    "\n",
    "predicted = rf.predict(X)\n",
    "accuracy = accuracy_score(Y, predicted)\n",
    "\n",
    "print(f'accuracy score: {accuracy:.3}')"
   ]
  },
  {
   "cell_type": "markdown",
   "metadata": {},
   "source": [
    "## 3. minmax_scale : 최대/최소값이 각각 1, 0이 되도록 스케일링"
   ]
  },
  {
   "cell_type": "code",
   "execution_count": 23,
   "metadata": {},
   "outputs": [
    {
     "name": "stdout",
     "output_type": "stream",
     "text": [
      "accuracy score: 0.91\n"
     ]
    }
   ],
   "source": [
    "X = TCGA_new.drop(['cancer'], axis=1)\n",
    "X = minmax_scale(X)\n",
    "Y = TCGA['y']\n",
    "X_train, X_test, y_train, y_test = train_test_split(X,Y, test_size=0.3)\n",
    "\n",
    "rf = RandomForestClassifier()\n",
    "rf.fit(X_train,y_train)\n",
    "\n",
    "predicted = rf.predict(X_test)\n",
    "accuracy = accuracy_score(y_test, predicted)\n",
    "\n",
    "print(f'accuracy score: {accuracy:.3}')"
   ]
  },
  {
   "cell_type": "code",
   "execution_count": 24,
   "metadata": {},
   "outputs": [
    {
     "name": "stdout",
     "output_type": "stream",
     "text": [
      "accuracy score: 0.284\n"
     ]
    }
   ],
   "source": [
    "X = K100_new.drop(['cancer'], axis=1)\n",
    "X = minmax_scale(X)\n",
    "Y = K100['cancer']\n",
    "\n",
    "predicted = rf.predict(X)\n",
    "accuracy = accuracy_score(Y, predicted)\n",
    "\n",
    "print(f'accuracy score: {accuracy:.3}')"
   ]
  },
  {
   "cell_type": "markdown",
   "metadata": {},
   "source": [
    "## 4. maxabs_scale :  최대절대값과 0이 각각 1, 0이 되도록 스케일링"
   ]
  },
  {
   "cell_type": "code",
   "execution_count": 25,
   "metadata": {},
   "outputs": [
    {
     "name": "stdout",
     "output_type": "stream",
     "text": [
      "accuracy score: 0.914\n"
     ]
    }
   ],
   "source": [
    "X = TCGA_new.drop(['cancer'], axis=1)\n",
    "X = maxabs_scale(X)\n",
    "Y = TCGA['y']\n",
    "X_train, X_test, y_train, y_test = train_test_split(X,Y, test_size=0.3)\n",
    "\n",
    "rf = RandomForestClassifier()\n",
    "rf.fit(X_train,y_train)\n",
    "\n",
    "predicted = rf.predict(X_test)\n",
    "accuracy = accuracy_score(y_test, predicted)\n",
    "\n",
    "print(f'accuracy score: {accuracy:.3}')"
   ]
  },
  {
   "cell_type": "code",
   "execution_count": 26,
   "metadata": {},
   "outputs": [
    {
     "name": "stdout",
     "output_type": "stream",
     "text": [
      "accuracy score: 0.42\n"
     ]
    }
   ],
   "source": [
    "X = K100_new.drop(['cancer'], axis=1)\n",
    "X = maxabs_scale(X)\n",
    "Y = K100['cancer']\n",
    "\n",
    "predicted = rf.predict(X)\n",
    "accuracy = accuracy_score(Y, predicted)\n",
    "\n",
    "print(f'accuracy score: {accuracy:.3}')"
   ]
  },
  {
   "cell_type": "code",
   "execution_count": null,
   "metadata": {},
   "outputs": [],
   "source": []
  }
 ],
 "metadata": {
  "kernelspec": {
   "display_name": "Python [default]",
   "language": "python",
   "name": "python3"
  },
  "language_info": {
   "codemirror_mode": {
    "name": "ipython",
    "version": 3
   },
   "file_extension": ".py",
   "mimetype": "text/x-python",
   "name": "python",
   "nbconvert_exporter": "python",
   "pygments_lexer": "ipython3",
   "version": "3.7.0"
  }
 },
 "nbformat": 4,
 "nbformat_minor": 2
}
